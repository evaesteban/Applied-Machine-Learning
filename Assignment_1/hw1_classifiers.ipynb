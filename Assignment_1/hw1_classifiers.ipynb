{
 "cells": [
  {
   "cell_type": "markdown",
   "metadata": {},
   "source": [
    "# HW1 - Classifiers"
   ]
  },
  {
   "cell_type": "markdown",
   "metadata": {},
   "source": [
    "## 1. Digit Recognizer"
   ]
  },
  {
   "cell_type": "code",
   "execution_count": 1,
   "metadata": {},
   "outputs": [],
   "source": [
    "# import libraries\n",
    "import numpy as np\n",
    "import pandas as pd\n",
    "import random\n",
    "import matplotlib.pyplot as plt\n",
    "from matplotlib.pyplot import imshow"
   ]
  },
  {
   "cell_type": "code",
   "execution_count": 2,
   "metadata": {},
   "outputs": [],
   "source": [
    "# read training and testing data\n",
    "training_data=pd.read_csv(\"Digit_Recognition_Data/train.csv\")\n",
    "testing_data=pd.read_csv(\"Digit_Recognition_Data/test.csv\")"
   ]
  },
  {
   "cell_type": "code",
   "execution_count": 3,
   "metadata": {},
   "outputs": [],
   "source": [
    "# function to display the MNIST digit indicated by the label parameter\n",
    "def displayDigit(label):\n",
    "    digitIndex = list(labels).index(label)\n",
    "    imshow(data[digitIndex,:,:])"
   ]
  },
  {
   "cell_type": "code",
   "execution_count": 4,
   "metadata": {},
   "outputs": [
    {
     "data": {
      "image/png": "[encoded data removed]",
      "text/plain": [
       "<Figure size 1440x1440 with 10 Axes>"
      ]
     },
     "metadata": {},
     "output_type": "display_data"
    }
   ],
   "source": [
    "labels=training_data['label'].values #extract data labels\n",
    "data=training_data.drop(['label'],axis=1).values # extract data values\n",
    "data = data.reshape(-1,28,28) # shape data for display\n",
    "\n",
    "# plot one of each digit\n",
    "plt.figure(figsize=(20,20))\n",
    "for i in range(10):\n",
    "    plt.subplot(5,5,i+1)\n",
    "    displayDigit(i)"
   ]
  },
  {
   "cell_type": "code",
   "execution_count": 5,
   "metadata": {},
   "outputs": [],
   "source": [
    "# function to calculate the prior probability of the class indicated by the label parameter\n",
    "def calculatePrior(label):\n",
    "    return np.count_nonzero(labels == label)/(42000)\n",
    "\n",
    "# function to calculate the number of times an element of the class indicated by the label parameter appears\n",
    "def counts(label):\n",
    "    return np.count_nonzero(labels == label)"
   ]
  },
  {
   "cell_type": "code",
   "execution_count": 6,
   "metadata": {},
   "outputs": [
    {
     "name": "stdout",
     "output_type": "stream",
     "text": [
      "Prior probability for  0 :  0.09838095238095237\n",
      "Prior probability for  1 :  0.11152380952380953\n",
      "Prior probability for  2 :  0.09945238095238096\n",
      "Prior probability for  3 :  0.1035952380952381\n",
      "Prior probability for  4 :  0.09695238095238096\n",
      "Prior probability for  5 :  0.09035714285714286\n",
      "Prior probability for  6 :  0.0985\n",
      "Prior probability for  7 :  0.10478571428571429\n",
      "Prior probability for  8 :  0.09673809523809523\n"
     ]
    },
    {
     "data": {
      "image/png": "[encoded data removed]",
      "text/plain": [
       "<Figure size 432x288 with 1 Axes>"
      ]
     },
     "metadata": {},
     "output_type": "display_data"
    }
   ],
   "source": [
    "for i in range(0, 9):\n",
    "    print (\"Prior probability for \", i, \": \", calculatePrior(i))\n",
    "\n",
    "x = np.arange(10)\n",
    "plt.bar(x, height= [counts(0), counts(1), counts(2), counts(3), counts(4), counts(5), counts(6), counts(7), counts(8), counts(9)]) \n",
    "plt.xticks(x, ['0','1','2', '3', '4', '5', '6', '7', '8', '9'])\n",
    "plt.title('MNIST Digits Frequency Histogram')\n",
    "plt.show()"
   ]
  },
  {
   "cell_type": "code",
   "execution_count": 7,
   "metadata": {},
   "outputs": [],
   "source": [
    "digit0 = data[list(labels).index(0),:,:]\n",
    "\n",
    "# need to fix \n",
    "\n",
    "oldDist = 0\n",
    "bestMatch = [28,28]\n",
    "\n",
    "for j in range (0,41999):\n",
    "    #if(data[j,:,:] != digit0: check needs to be implemented\n",
    "    \n",
    "    if(j == 0):\n",
    "        dist = np.linalg.norm(digit0 - data[j,:,:])\n",
    "        oldDist = dist\n",
    "    else:\n",
    "        dist = np.linalg.norm(digit0 - data[j,:,:])\n",
    "        if (dist < oldDist):\n",
    "            bestMatch = data[j,:,:]\n",
    "            oldDist = dist"
   ]
  },
  {
   "cell_type": "markdown",
   "metadata": {},
   "source": [
    "## 2. The Titanic Disaster"
   ]
  },
  {
   "cell_type": "code",
   "execution_count": 8,
   "metadata": {
    "scrolled": true
   },
   "outputs": [],
   "source": [
    "from sklearn.linear_model import LogisticRegression\n",
    "from sklearn.datasets import make_classification\n",
    "import seaborn as sns\n",
    "sns.set()\n",
    "from sklearn.model_selection import train_test_split\n",
    "from sklearn.metrics import confusion_matrix\n",
    "\n",
    "# read training and testing data\n",
    "training_data_t=pd.read_csv(\"Titanic_Data/train_titanic.csv\")\n",
    "testing_data_t=pd.read_csv(\"Titanic_Data/test_titanic.csv\")"
   ]
  },
  {
   "cell_type": "code",
   "execution_count": 9,
   "metadata": {},
   "outputs": [],
   "source": [
    "labels_t=training_data_t['Survived'].values #extract data labels\n",
    "data_t=training_data_t.drop(['Survived'],axis=1).values # extract data values\n",
    "\n",
    "#lr = LogisticRegression()\n",
    "#lr.fit(data_t, labels_t)"
   ]
  },
  {
   "cell_type": "code",
   "execution_count": null,
   "metadata": {},
   "outputs": [],
   "source": []
  }
 ],
 "metadata": {
  "kernelspec": {
   "display_name": "Python 3",
   "language": "python",
   "name": "python3"
  },
  "language_info": {
   "codemirror_mode": {
    "name": "ipython",
    "version": 3
   },
   "file_extension": ".py",
   "mimetype": "text/x-python",
   "name": "python",
   "nbconvert_exporter": "python",
   "pygments_lexer": "ipython3",
   "version": "3.6.5"
  }
 },
 "nbformat": 4,
 "nbformat_minor": 2
}
