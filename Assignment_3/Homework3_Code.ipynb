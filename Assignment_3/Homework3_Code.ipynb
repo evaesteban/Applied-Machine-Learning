{
 "cells": [
  {
   "cell_type": "markdown",
   "metadata": {},
   "source": [
    "Sentiment Analysis for Online Reviews"
   ]
  },
  {
   "cell_type": "code",
   "execution_count": 6,
   "metadata": {},
   "outputs": [],
   "source": [
    "import pandas as pd"
   ]
  },
  {
   "cell_type": "markdown",
   "metadata": {},
   "source": [
    "a) Downloading, reading and analyzing datasets"
   ]
  },
  {
   "cell_type": "code",
   "execution_count": 51,
   "metadata": {},
   "outputs": [],
   "source": [
    "# load data in the right format according to readme files\n",
    "yelp=pd.read_csv(\"sentiment_labelled_sentences\\yelp_labelled.txt\",delimiter=\"\\t\", names=[\"Sentence\", \"Label\"])\n",
    "imdb=pd.read_csv(\"sentiment_labelled_sentences\\imdb_labelled.txt\",delimiter=\"\\t\", names=[\"Sentence\", \"Label\"])\n",
    "amazon=pd.read_csv(\"sentiment_labelled_sentences\\labelled_amazon.txt\",delimiter=\"\\t\", names=[\"Sentence\", \"Label\"])"
   ]
  },
  {
   "cell_type": "code",
   "execution_count": 52,
   "metadata": {},
   "outputs": [
    {
     "name": "stdout",
     "output_type": "stream",
     "text": [
      "Number of 1s in Yelp: 500\n",
      "Number of 0s in Yelp: 500\n",
      "Number of 1s in Imdb: 386\n",
      "Number of 0s in Imdb: 362\n",
      "Number of 1s in Amazon: 500\n",
      "Number of 0s in Amazon: 500\n"
     ]
    }
   ],
   "source": [
    "# check if data is balance in all three dataframes\n",
    "\n",
    "# yelp\n",
    "onesYelp = len(yelp[yelp['Label'] == 1])\n",
    "zerosYelp = len(yelp[yelp['Label'] == 0])\n",
    "print('Number of 1s in Yelp:', onesYelp)\n",
    "print('Number of 0s in Yelp:', zerosYelp)\n",
    "\n",
    "#imdb\n",
    "onesImdb = len(imdb[imdb['Label'] == 1])\n",
    "zerosImdb = len(imdb[imdb['Label'] == 0])\n",
    "print('Number of 1s in Imdb:', onesImdb)\n",
    "print('Number of 0s in Imdb:', zerosImdb)\n",
    "\n",
    "#amazon\n",
    "onesAmazon = len(amazon[amazon['Label'] == 1])\n",
    "zerosAmazon = len(amazon[amazon['Label'] == 0])\n",
    "print('Number of 1s in Amazon:', onesAmazon)\n",
    "print('Number of 0s in Amazon:', zerosAmazon)"
   ]
  },
  {
   "cell_type": "markdown",
   "metadata": {},
   "source": [
    "The data in the Yelp and Amazon files is balanced because there are the same number of 1s and 0s as labels. \n",
    "The data in the Imdb file can be considered almost balancen because the number of 1s and 0s is almost the same (386 and 362, respectively). The ratio of 1s to 0s is 386/362 = 1.067."
   ]
  },
  {
   "cell_type": "markdown",
   "metadata": {},
   "source": [
    "b) Pre-processing datasets"
   ]
  },
  {
   "cell_type": "code",
   "execution_count": 53,
   "metadata": {},
   "outputs": [],
   "source": [
    "# convert all letters to lower case\n",
    "yelp = yelp.applymap(lambda s:s.lower() if type(s) == str else s)\n",
    "lmdb = lmdb.applymap(lambda s:s.lower() if type(s) == str else s)\n",
    "amazon = amazon.applymap(lambda s:s.lower() if type(s) == str else s)"
   ]
  },
  {
   "cell_type": "markdown",
   "metadata": {},
   "source": [
    "For this part, we decided to convert all sentences to lower case, so that the same word with some upper case letters and without them would not be detected as different words since we are using the string type which takes into account there differences. "
   ]
  },
  {
   "cell_type": "code",
   "execution_count": null,
   "metadata": {},
   "outputs": [],
   "source": []
  }
 ],
 "metadata": {
  "kernelspec": {
   "display_name": "Python 3",
   "language": "python",
   "name": "python3"
  },
  "language_info": {
   "codemirror_mode": {
    "name": "ipython",
    "version": 3
   },
   "file_extension": ".py",
   "mimetype": "text/x-python",
   "name": "python",
   "nbconvert_exporter": "python",
   "pygments_lexer": "ipython3",
   "version": "3.7.3"
  }
 },
 "nbformat": 4,
 "nbformat_minor": 2
}
