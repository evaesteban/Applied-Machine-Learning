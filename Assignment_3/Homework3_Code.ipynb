{
 "cells": [
  {
   "cell_type": "markdown",
   "metadata": {},
   "source": [
    "## Sentiment Analysis for Online Reviews"
   ]
  },
  {
   "cell_type": "code",
   "execution_count": 1,
   "metadata": {},
   "outputs": [
    {
     "name": "stdout",
     "output_type": "stream",
     "text": [
      "[nltk_data] Downloading package wordnet to\n",
      "[nltk_data]     C:\\Users\\simir\\AppData\\Roaming\\nltk_data...\n",
      "[nltk_data]   Package wordnet is already up-to-date!\n",
      "[nltk_data] Downloading package stopwords to\n",
      "[nltk_data]     C:\\Users\\simir\\AppData\\Roaming\\nltk_data...\n",
      "[nltk_data]   Package stopwords is already up-to-date!\n",
      "[nltk_data] Downloading package punkt to\n",
      "[nltk_data]     C:\\Users\\simir\\AppData\\Roaming\\nltk_data...\n",
      "[nltk_data]   Package punkt is already up-to-date!\n"
     ]
    }
   ],
   "source": [
    "# libraries to import\n",
    "import string\n",
    "import math\n",
    "import pandas as pd\n",
    "import numpy as np\n",
    "import nltk as nltk\n",
    "import scipy as sp\n",
    "import matplotlib.pyplot as plt\n",
    "nltk.download('wordnet')\n",
    "nltk.download('stopwords')\n",
    "nltk.download('punkt')\n",
    "from nltk.corpus import stopwords \n",
    "from nltk.tokenize import word_tokenize\n",
    "from nltk.stem import WordNetLemmatizer  \n",
    "from sklearn.metrics import confusion_matrix, accuracy_score\n",
    "from sklearn.linear_model import LogisticRegression\n",
    "from sklearn.naive_bayes import GaussianNB"
   ]
  },
  {
   "cell_type": "markdown",
   "metadata": {},
   "source": [
    "#### a) Downloading, reading and analyzing datasets"
   ]
  },
  {
   "cell_type": "code",
   "execution_count": 2,
   "metadata": {},
   "outputs": [],
   "source": [
    "# load data in the right> format according to readme files\n",
    "yelp=pd.read_csv(\"sentiment_labelled_sentences\\yelp_labelled.txt\",delimiter=\"\\t\", names=[\"Sentence\", \"Label\"])\n",
    "imdb=pd.read_csv(\"sentiment_labelled_sentences\\imdb_labelled.txt\",delimiter=\"\\t\", names=[\"Sentence\", \"Label\"])\n",
    "amazon=pd.read_csv(\"sentiment_labelled_sentences\\labelled_amazon.txt\",delimiter=\"\\t\", names=[\"Sentence\", \"Label\"])"
   ]
  },
  {
   "cell_type": "code",
   "execution_count": 3,
   "metadata": {},
   "outputs": [
    {
     "name": "stdout",
     "output_type": "stream",
     "text": [
      "Number of 1s in Yelp: 500\n",
      "Number of 0s in Yelp: 500\n",
      "Number of 1s in Imdb: 386\n",
      "Number of 0s in Imdb: 362\n",
      "Number of 1s in Amazon: 500\n",
      "Number of 0s in Amazon: 500\n"
     ]
    }
   ],
   "source": [
    "# check if data is balance in all three dataframes\n",
    "\n",
    "# yelp\n",
    "ones_yelp = len(yelp[yelp['Label'] == 1])\n",
    "zeros_yelp = len(yelp[yelp['Label'] == 0])\n",
    "print('Number of 1s in Yelp:', ones_yelp)\n",
    "print('Number of 0s in Yelp:', zeros_yelp)\n",
    "\n",
    "#imdb\n",
    "ones_imdb = len(imdb[imdb['Label'] == 1])\n",
    "zeros_imdb = len(imdb[imdb['Label'] == 0])\n",
    "print('Number of 1s in Imdb:', ones_imdb)\n",
    "print('Number of 0s in Imdb:', zeros_imdb)\n",
    "\n",
    "#amazon\n",
    "ones_amazon = len(amazon[amazon['Label'] == 1])\n",
    "zeros_amazon = len(amazon[amazon['Label'] == 0])\n",
    "print('Number of 1s in Amazon:', ones_amazon)\n",
    "print('Number of 0s in Amazon:', zeros_amazon)"
   ]
  },
  {
   "cell_type": "markdown",
   "metadata": {},
   "source": [
    "The data in the Yelp and Amazon files is balanced because there are the same number of 1s and 0s as labels. \n",
    "The data in the Imdb file can be considered almost balancen because the number of 1s and 0s is almost the same (386 and 362, respectively). The ratio of 1s to 0s is 386/362 = 1.067."
   ]
  },
  {
   "cell_type": "markdown",
   "metadata": {},
   "source": [
    "#### b) Pre-processing datasets"
   ]
  },
  {
   "cell_type": "code",
   "execution_count": 4,
   "metadata": {},
   "outputs": [],
   "source": [
    "def preprocessing(data):\n",
    "    stop_words = set(stopwords.words('english')) # find stop words in English language\n",
    "    lemmatizer = WordNetLemmatizer() # declare nltk lemmatizer\n",
    "\n",
    "    # iterate through every sentence and replace it by itself lemmatized, without punctuation and without stop words\n",
    "    for i in data['Sentence'].index:\n",
    "    \n",
    "        # remove punctuation\n",
    "        sentence_no_punct = ''\n",
    "        for char in (data.at[i, 'Sentence']):\n",
    "            if char not in string.punctuation:\n",
    "                sentence_no_punct = sentence_no_punct + char\n",
    "        (data.at[i, 'Sentence']) = sentence_no_punct\n",
    "\n",
    "        word_tokens = word_tokenize(data.at[i, 'Sentence'])\n",
    "        # remove stop words and lemmatize\n",
    "        word_tokens = [lemmatizer.lemmatize(word) for word in word_tokens if word not in stop_words]\n",
    "        word_tokens = [lemmatizer.lemmatize(word, 'v') for word in word_tokens]\n",
    "        word_tokens = [lemmatizer.lemmatize(word, 'a') for word in word_tokens]\n",
    "        # remove conjunction words\n",
    "        word_tokens = [word for word in word_tokens if word[-2:] != 'nt']\n",
    "        (data.at[i, 'Sentence']) = ' '.join(word_tokens)\n",
    "        \n",
    "    return data"
   ]
  },
  {
   "cell_type": "code",
   "execution_count": 5,
   "metadata": {},
   "outputs": [],
   "source": [
    "# convert all letters to lower case\n",
    "yelp = yelp.applymap(lambda s:s.lower() if type(s) == str else s)\n",
    "imdb = imdb.applymap(lambda s:s.lower() if type(s) == str else s)\n",
    "amazon = amazon.applymap(lambda s:s.lower() if type(s) == str else s)\n",
    "\n",
    "# lemmatize, remove punctuation, remove stop words\n",
    "preprocessing(yelp)\n",
    "preprocessing(imdb)\n",
    "preprocessing(amazon);"
   ]
  },
  {
   "cell_type": "markdown",
   "metadata": {},
   "source": [
    "For this part, we decided to convert all sentences to lower case, so that the same word with some upper case letters and without them would not be detected as different words since we are using the string type which takes into account their differences. \n",
    "\n",
    "We also stripped the sentences of stop words because they do not add any meaning as the same stop words appear in many different sentences.\n",
    "\n",
    "Additionally, we removed the punctuation because it does not add any meaning to the word analysis exercise we will do in this question. \n",
    "\n",
    "We also lemmatized all the words because we are interested in knowing which class of words they belong to in order to understand the meaning of the sentence and not whether they are a noun, adjective, etc.\n",
    "\n",
    "We finally removed words with the conjunction \"n't\" because these are also meaningless words like \"isn't\" and \"didn't\". They are basically stop words but are not caught by the stop word checker because of the extra \"n't\"."
   ]
  },
  {
   "cell_type": "markdown",
   "metadata": {},
   "source": [
    "#### c) Split training and testing data"
   ]
  },
  {
   "cell_type": "code",
   "execution_count": 6,
   "metadata": {},
   "outputs": [],
   "source": [
    "# split the three datasets into training and testing data according to the specifications\n",
    "\n",
    "def split_data(data):\n",
    "    data.reset_index(drop=True)\n",
    "    training = (data.query('Label == 1' )).head(400).append((data.query('Label == 0' )).head(400))\n",
    "    testing = (data.query('Label == 1' )).tail(100).append((data.query('Label == 0' )).tail(100))\n",
    "    return training, testing"
   ]
  },
  {
   "cell_type": "code",
   "execution_count": 7,
   "metadata": {},
   "outputs": [],
   "source": [
    "# split yelp\n",
    "training_yelp, testing_yelp = split_data(yelp)\n",
    "\n",
    "# split imdb\n",
    "training_imdb, testing_imdb = split_data(imdb)\n",
    "\n",
    "# split amazon\n",
    "training_amazon, testing_amazon = split_data(amazon)"
   ]
  },
  {
   "cell_type": "code",
   "execution_count": 8,
   "metadata": {},
   "outputs": [
    {
     "name": "stdout",
     "output_type": "stream",
     "text": [
      "(2348, 2)\n",
      "(600, 2)\n"
     ]
    }
   ],
   "source": [
    "# concatenate training and testing data for all files\n",
    "train_data = training_yelp.append(training_imdb, ignore_index=True).append(training_amazon, ignore_index=True)\n",
    "print(np.shape(train_data)) # this not exactly 2400? Because IMDB does not reach 800 data points...but why\n",
    "\n",
    "test_data = testing_yelp.append(testing_imdb, ignore_index=True).append(testing_amazon, ignore_index=True)\n",
    "print(np.shape(test_data)) "
   ]
  },
  {
   "cell_type": "markdown",
   "metadata": {},
   "source": [
    "#### d) Bag of Words model"
   ]
  },
  {
   "cell_type": "markdown",
   "metadata": {},
   "source": [
    "For this question we cannot use the testing set to create the dictionary of unique words because the model needs to be created with the training set so that we can use the testing set as new data to test our model's ability to generalize. If we create the dictionary with the testing data, we are essentially using all the data as training data and would need to look for another set of new data to test the classifier."
   ]
  },
  {
   "cell_type": "code",
   "execution_count": 9,
   "metadata": {},
   "outputs": [],
   "source": [
    "# create set of unique words in training set\n",
    "word_dictionary = {}\n",
    "\n",
    "# iterate through every word or every sentence and store it in dictionary with count 0 (the count will be updated\n",
    "# later when we iterate through both testing and training set\n",
    "for i in train_data.index:\n",
    "    word_tokens_training = word_tokenize(train_data.at[i, 'Sentence'])\n",
    "    for word in word_tokens_training:\n",
    "        word_dictionary[word] = 0\n",
    "        \n",
    "# count the number of occurrences of each word in dictionary in training set\n",
    "for i in train_data.index:\n",
    "    word_tokens_training = word_tokenize(train_data.at[i, 'Sentence'])\n",
    "    for word in word_tokens_training:\n",
    "        if word in word_dictionary:\n",
    "            word_dictionary[word] += 1\n",
    "            \n",
    "# count the number of occurences of each word in dictionary in testing set  \n",
    "for i in test_data.index:\n",
    "    word_tokens_testing = word_tokenize(test_data.at[i, 'Sentence'])\n",
    "    for word in word_tokens_testing:\n",
    "        if word in word_dictionary:\n",
    "            word_dictionary[word] += 1\n",
    "\n",
    "# create one feature vector per review\n",
    "feature_column = [] # list to store the feature vectors and add to dataframe at the end\n",
    "for i in train_data.index:\n",
    "    word_tokens_training = word_tokenize(train_data.at[i, 'Sentence'])\n",
    "    feature_vector = np.zeros(len(word_dictionary.keys())) # to store feature vector in each iteration\n",
    "    for j, dict_word in enumerate(word_dictionary.keys()):\n",
    "        if dict_word in word_tokens_training:\n",
    "            feature_vector[j] = math.log(word_dictionary[dict_word] + 1) # apply log normalization\n",
    "    feature_column.append(feature_vector) \n",
    "train_data['Vectors'] = feature_column\n",
    "\n",
    "feature_column = [] # list to store the feature vectors and add to dataframe at the end\n",
    "for i in test_data.index:\n",
    "    word_tokens_testing = word_tokenize(test_data.at[i, 'Sentence'])\n",
    "    feature_vector = np.zeros(len(word_dictionary.keys())) # to store feature vector in each iteration\n",
    "    for j, dict_word in enumerate(word_dictionary.keys()):\n",
    "        if dict_word in word_tokens_testing:\n",
    "            feature_vector[j] = math.log(word_dictionary[dict_word] + 1) # apply log normalization\n",
    "    feature_column.append(feature_vector) \n",
    "test_data['Vectors'] = feature_column"
   ]
  },
  {
   "cell_type": "markdown",
   "metadata": {},
   "source": [
    "#### e) Pick postprocessing strategy"
   ]
  },
  {
   "cell_type": "markdown",
   "metadata": {},
   "source": [
    "We will not apply mean substraction and division by standard deviation because this only makes sense if the data more or less follows a normal distribution. Since we cannot ensure this, we will choose some other method.\n",
    "\n",
    "Also, the number of dimensions (words) of the feature vectors is significant, so choosing L1 or L2 norm might result in similar distance measures for sentences with different words, so we discarded these techniques. \n",
    "\n",
    "Log normalization can allow us to make data less skewed and focus on the relative differences rather than the absolute values, so we chose to apply this technique.\n",
    "\n",
    "We added the normalization step in the code for d) as we were constructing the feature vectors in order to reduce the number of iterations we need to go through the data"
   ]
  },
  {
   "cell_type": "markdown",
   "metadata": {},
   "source": [
    "#### f) Sentiment prediction"
   ]
  },
  {
   "cell_type": "code",
   "execution_count": 10,
   "metadata": {},
   "outputs": [],
   "source": [
    "def Sentiment_Analysis(train_data, train_labels, test_data, test_labels):\n",
    "    # split training and testing data into X (data) and Y (labels)\n",
    "    x_train = list(train_data) \n",
    "    y_train = list(train_labels)\n",
    "\n",
    "    x_test = list(test_data) \n",
    "    y_test = list(test_labels)\n",
    "\n",
    "    # initialize and fit logistic regression model with training data\n",
    "    lr = LogisticRegression(solver = 'lbfgs', max_iter = 10000)\n",
    "    lr.fit(x_train, y_train)\n",
    "\n",
    "    # predict the result for the testing data\n",
    "    lr_pred = lr.predict(x_test) \n",
    "\n",
    "    # calculate accuracy\n",
    "    lr_acc = accuracy_score(lr_pred, y_test)\n",
    "\n",
    "    # initialize and fit naive bayes model gaussian prior with training data\n",
    "    gnb = GaussianNB()\n",
    "    gnb.fit(x_train, y_train)\n",
    "\n",
    "    # predict the results for the test set\n",
    "    gnb_pred = gnb.predict(x_test) \n",
    "\n",
    "    # calculate accuracy\n",
    "    gnb_acc = accuracy_score(gnb_pred, y_test)\n",
    "\n",
    "    # confusion matrix calculations\n",
    "    \n",
    "    cfn_matrix_lr = confusion_matrix(y_test, lr_pred)\n",
    "    cfn_matrix_gnb = confusion_matrix(y_test, gnb_pred)\n",
    "    \n",
    "    return lr_acc, gnb_acc, cfn_matrix_lr, cfn_matrix_gnb"
   ]
  },
  {
   "cell_type": "code",
   "execution_count": 11,
   "metadata": {},
   "outputs": [
    {
     "name": "stdout",
     "output_type": "stream",
     "text": [
      "[[260  40]\n",
      " [ 52 248]]\n",
      "[[234  66]\n",
      " [ 59 241]]\n"
     ]
    },
    {
     "data": {
      "image/png": "[encoded data removed]",
      "text/plain": [
       "<Figure size 432x288 with 2 Axes>"
      ]
     },
     "metadata": {},
     "output_type": "display_data"
    },
    {
     "data": {
      "image/png": "[encoded data removed]",
      "text/plain": [
       "<Figure size 432x288 with 2 Axes>"
      ]
     },
     "metadata": {},
     "output_type": "display_data"
    }
   ],
   "source": [
    "lr_acc, gnb_acc, cfn_matrix_lr, cfn_matrix_gnb = Sentiment_Analysis(train_data['Vectors'], train_data['Label'], \\\n",
    "                                                 test_data['Vectors'], test_data['Label'])\n",
    "\n",
    "# display logistic regression confusion matrix\n",
    "print(cfn_matrix_lr)\n",
    "\n",
    "# display it in an intuitive way\n",
    "fig, ax = plt.subplots()\n",
    "plt.imshow(cfn_matrix_lr)\n",
    "plt.colorbar()\n",
    "plt.title('Logistic Regression Confusion Matrix')\n",
    "classes = [0,1]\n",
    "ax.set(xticks=classes,yticks=classes,xticklabels=classes,yticklabels=classes,ylabel='True',xlabel='Predicted');\n",
    "plt.savefig('LR_ConfMatrix')\n",
    "\n",
    "# display naive bayes confusion matrix\n",
    "print(cfn_matrix_gnb)\n",
    "\n",
    "# display it in an intuitive way\n",
    "fig, ax = plt.subplots()\n",
    "plt.imshow(cfn_matrix_gnb)\n",
    "plt.colorbar()\n",
    "plt.title('Naive Bayes Confusion Matrix')\n",
    "classes = [0,1]\n",
    "ax.set(xticks=classes,yticks=classes,xticklabels=classes,yticklabels=classes,ylabel='True',xlabel='Predicted');\n",
    "plt.savefig('NB_ConfMatrix')"
   ]
  },
  {
   "cell_type": "code",
   "execution_count": 12,
   "metadata": {},
   "outputs": [
    {
     "name": "stdout",
     "output_type": "stream",
     "text": [
      "Logistic Regression accuracy is:  0.8466666666666667\n",
      "Naive Bayes accuracy is:  0.7916666666666666\n"
     ]
    }
   ],
   "source": [
    "print(\"Logistic Regression accuracy is: \", lr_acc)\n",
    "print(\"Naive Bayes accuracy is: \", gnb_acc)"
   ]
  },
  {
   "cell_type": "markdown",
   "metadata": {},
   "source": [
    "#### (g) N-gram model"
   ]
  },
  {
   "cell_type": "code",
   "execution_count": 13,
   "metadata": {},
   "outputs": [],
   "source": [
    "def ngram_dict(n, train_data, test_data):\n",
    "    # create set of unique words in training set\n",
    "    word_dict = {}\n",
    "\n",
    "    # iterate through every word or every sentence and store it in dictionary with count 0 (the count will be updated\n",
    "    # later when we iterate through both testing and training set\n",
    "    for i in train_data.index:\n",
    "        word_tokens_training = word_tokenize(train_data.at[i, 'Sentence'])\n",
    "        for j in range(len(word_tokens_training)):\n",
    "            if j+n < len(word_tokens_training):\n",
    "                words = ' '.join([word_tokens_training[k] for k in range(j,j+n)])\n",
    "                word_dict[words] = 0\n",
    "    \n",
    "    # count the number of occurences of each word in dictionary in training set\n",
    "    for i in train_data.index:\n",
    "        word_tokens_training = word_tokenize(train_data.at[i, 'Sentence'])\n",
    "        for j in range(len(word_tokens_training)):\n",
    "            if j+n < len(word_tokens_training):\n",
    "                words = ' '.join([word_tokens_training[k] for k in range(j,j+n)])\n",
    "                if words in word_dict:\n",
    "                    word_dict[words] += 1\n",
    "    # count the number of occurences of each word in dictionary in testing set  \n",
    "    for i in test_data.index:\n",
    "        word_tokens_testing = word_tokenize(test_data.at[i, 'Sentence'])\n",
    "        for j in range(len(word_tokens_testing)):\n",
    "            if j+n < len(word_tokens_testing):\n",
    "                words = ' '.join([word_tokens_testing[k] for k in range(j,j+n)])\n",
    "                if words in word_dict:\n",
    "                    word_dict[words] += 1\n",
    "    return word_dict\n",
    "\n",
    "def ngram_feature_vec(n, data, word_dict):\n",
    "    feature_vecs = []\n",
    "    for i in data.index:\n",
    "        word_tokens = word_tokenize(data.at[i, 'Sentence'])\n",
    "        \n",
    "        # create a lst of ngrams for this review\n",
    "        ngram_lst = []\n",
    "        for j in range(len(word_tokens)):\n",
    "            if j+n < len(word_tokens):\n",
    "                ngram_lst.append(' '.join([word_tokens[k] for k in range(j,j+n)]))\n",
    "        \n",
    "        feature_vector = np.zeros(len(word_dict.keys())) # to store feature vector of this review\n",
    "        for k, dict_word in enumerate(word_dict.keys()):\n",
    "            if dict_word in ngram_lst:\n",
    "                feature_vector[k] = math.log(word_dict[dict_word] + 1) # apply log normalization\n",
    "                \n",
    "        feature_vecs.append(feature_vector) \n",
    "    return feature_vecs"
   ]
  },
  {
   "cell_type": "code",
   "execution_count": 14,
   "metadata": {},
   "outputs": [],
   "source": [
    "# implement the ngram model for n = 2\n",
    "\n",
    "word_dict = ngram_dict(2, train_data, test_data)\n",
    "\n",
    "train_data['Vectors_2gram'] = ngram_feature_vec(2, train_data, word_dict)\n",
    "\n",
    "test_data['Vectors_2gram'] = ngram_feature_vec(2, test_data, word_dict)"
   ]
  },
  {
   "cell_type": "code",
   "execution_count": 15,
   "metadata": {},
   "outputs": [],
   "source": [
    "lr_acc_2, gnb_acc_2, cfn_matrix_2_lr, cfn_matrix_2_gnb = Sentiment_Analysis(train_data['Vectors_2gram'], train_data['Label'], \\\n",
    "                                                 test_data['Vectors_2gram'], test_data['Label'])"
   ]
  },
  {
   "cell_type": "code",
   "execution_count": 16,
   "metadata": {},
   "outputs": [
    {
     "name": "stdout",
     "output_type": "stream",
     "text": [
      "Logistic Regression accuracy is:  0.6966666666666667\n",
      "Naive Bayes accuracy is:  0.6666666666666666\n"
     ]
    }
   ],
   "source": [
    "print(\"Logistic Regression accuracy is: \", lr_acc_2)\n",
    "print(\"Naive Bayes accuracy is: \", gnb_acc_2)"
   ]
  },
  {
   "cell_type": "markdown",
   "metadata": {},
   "source": [
    "#### PCA"
   ]
  },
  {
   "cell_type": "code",
   "execution_count": 17,
   "metadata": {},
   "outputs": [],
   "source": [
    "train_matrix = np.matrix((train_data['Vectors']).tolist())\n",
    "test_matrix = np.matrix((test_data['Vectors']).tolist())"
   ]
  },
  {
   "cell_type": "code",
   "execution_count": 18,
   "metadata": {},
   "outputs": [],
   "source": [
    "# implement with np.svd\n",
    "def my_pca(data, dim):\n",
    "    \n",
    "    # perform SVD\n",
    "    U, S, VTrans = sp.linalg.svd(data)\n",
    "    \n",
    "    # PCA to keep first 100 dimensions\n",
    "    U_dim = U[:, :dim]\n",
    "    S_dim = S[:dim]\n",
    "    VTrans_dim = VTrans[:dim, :]\n",
    "        \n",
    "    S_vT = np.dot(np.diag(S_dim), VTrans_dim)\n",
    "    train_pca_dim = np.dot(U_dim, S_vT) \n",
    "    \n",
    "    return train_pca_dim"
   ]
  },
  {
   "cell_type": "code",
   "execution_count": 19,
   "metadata": {},
   "outputs": [],
   "source": [
    "pca_10 = my_pca(train_matrix, 10)\n",
    "\n",
    "pca_50 = my_pca(train_matrix, 50)\n",
    "\n",
    "pca_100 = my_pca(train_matrix, 100)"
   ]
  },
  {
   "cell_type": "code",
   "execution_count": 20,
   "metadata": {},
   "outputs": [],
   "source": [
    "pca_10_test = my_pca(test_matrix, 10)\n",
    "\n",
    "pca_50_test = my_pca(test_matrix, 50)\n",
    "\n",
    "pca_100_test = my_pca(test_matrix, 100)"
   ]
  },
  {
   "cell_type": "code",
   "execution_count": 21,
   "metadata": {},
   "outputs": [],
   "source": [
    "lr_acc_pca10, gnb_acc_pca10, cfn_matrix_pca10_lr, cfn_matrix_pca10_gnb  = Sentiment_Analysis(pca_10, train_data['Label'], pca_10_test, test_data['Label'])\n",
    "\n",
    "lr_acc_pca50, gnb_acc_pca50, cfn_matrix_pca50_lr, cfn_matrix_pca50_gnb = Sentiment_Analysis(pca_50, train_data['Label'], pca_50_test, test_data['Label'])\n",
    "\n",
    "lr_acc_pca100, gnb_acc_pca100, cfn_matrix_pca100_lr, cfn_matrix_pca100_gnb = Sentiment_Analysis(pca_100, train_data['Label'], pca_100_test, test_data['Label'])"
   ]
  },
  {
   "cell_type": "code",
   "execution_count": 22,
   "metadata": {},
   "outputs": [
    {
     "name": "stdout",
     "output_type": "stream",
     "text": [
      "PCA 10 \n",
      " Logistic regression accuracy:  0.5833333333333334 \n",
      " Naive Bayes accuracy:  0.49166666666666664\n",
      "PCA 50 \n",
      " Logistic regression accuracy:  0.6583333333333333 \n",
      " Naive Bayes accuracy:  0.55\n",
      "PCA 100 \n",
      " Logistic regression accuracy:  0.6733333333333333 \n",
      " Naive Bayes accuracy:  0.5883333333333334\n"
     ]
    }
   ],
   "source": [
    "print(\"PCA 10 \\n\", \"Logistic regression accuracy: \", lr_acc_pca10, \"\\n\", \\\n",
    "      \"Naive Bayes accuracy: \", gnb_acc_pca10)\n",
    "print(\"PCA 50 \\n\", \"Logistic regression accuracy: \", lr_acc_pca50, \"\\n\", \\\n",
    "      \"Naive Bayes accuracy: \", gnb_acc_pca50)\n",
    "print(\"PCA 100 \\n\", \"Logistic regression accuracy: \", lr_acc_pca100, \"\\n\", \\\n",
    "      \"Naive Bayes accuracy: \", gnb_acc_pca100)"
   ]
  },
  {
   "cell_type": "markdown",
   "metadata": {},
   "source": [
    "#### (g) Algorithm comparison and analysis"
   ]
  },
  {
   "cell_type": "code",
   "execution_count": null,
   "metadata": {},
   "outputs": [],
   "source": []
  },
  {
   "cell_type": "markdown",
   "metadata": {},
   "source": [
    "# Clustering for Text Analysis"
   ]
  },
  {
   "cell_type": "code",
   "execution_count": 135,
   "metadata": {},
   "outputs": [],
   "source": [
    "from sklearn.cluster import KMeans\n",
    "import matplotlib.pyplot as plt\n",
    "from sklearn.metrics import silhouette_score"
   ]
  },
  {
   "cell_type": "markdown",
   "metadata": {},
   "source": [
    "#### (A) Document-wise Clustering"
   ]
  },
  {
   "cell_type": "code",
   "execution_count": 136,
   "metadata": {},
   "outputs": [],
   "source": [
    "documents = np.load('science2k-doc-word.npy')"
   ]
  },
  {
   "cell_type": "code",
   "execution_count": 137,
   "metadata": {},
   "outputs": [
    {
     "data": {
      "text/plain": [
       "(1373, 5476)"
      ]
     },
     "execution_count": 137,
     "metadata": {},
     "output_type": "execute_result"
    }
   ],
   "source": [
    "documents.shape"
   ]
  },
  {
   "cell_type": "code",
   "execution_count": 138,
   "metadata": {},
   "outputs": [],
   "source": [
    "sil = []\n",
    "ks = []\n",
    "for k in range(2, 21):\n",
    "    kmeans = KMeans(n_clusters = k, max_iter = 10000).fit(documents)\n",
    "    labels = kmeans.labels_\n",
    "    distances = kmeans.inertia_\n",
    "    \n",
    "    # determine whether the documents are labeled correctly\n",
    "    sil.append(silhouette_score(documents, labels, metric = 'euclidean'))\n",
    "\n",
    "    ks.append(k)"
   ]
  },
  {
   "cell_type": "code",
   "execution_count": 139,
   "metadata": {},
   "outputs": [
    {
     "data": {
      "text/plain": [
       "[<matplotlib.lines.Line2D at 0x1dcf71a56a0>]"
      ]
     },
     "execution_count": 139,
     "metadata": {},
     "output_type": "execute_result"
    },
    {
     "data": {
      "image/png": "[encoded data removed]",
      "text/plain": [
       "<Figure size 432x288 with 1 Axes>"
      ]
     },
     "metadata": {
      "needs_background": "light"
     },
     "output_type": "display_data"
    }
   ],
   "source": [
    "plt.plot(ks, sil)"
   ]
  },
  {
   "cell_type": "code",
   "execution_count": 140,
   "metadata": {},
   "outputs": [],
   "source": [
    "best_k = ks[np.argmax(sil)]"
   ]
  },
  {
   "cell_type": "code",
   "execution_count": 141,
   "metadata": {},
   "outputs": [
    {
     "name": "stdout",
     "output_type": "stream",
     "text": [
      "2\n"
     ]
    }
   ],
   "source": [
    "print(best_k)"
   ]
  },
  {
   "cell_type": "code",
   "execution_count": 142,
   "metadata": {},
   "outputs": [
    {
     "name": "stdout",
     "output_type": "stream",
     "text": [
      "Words corresponding to the largest 10 distances in cluster:  0 : \n",
      "\n",
      "Word:  [[-0.2521619 -0.2521619  9.36371   ... -0.2521619 -0.2521619 -0.2521619]]  Distance:  33779056.86806984 \n",
      "\n",
      "Word:  [[-0.2521619 -0.2521619  9.36371   ... -0.2521619 -0.2521619 -0.2521619]]  Distance:  33779059.779566556 \n",
      "\n",
      "Word:  [[-0.2521619 -0.2521619  9.36371   ... -0.2521619 -0.2521619 -0.2521619]]  Distance:  33779058.89030025 \n",
      "\n",
      "Word:  [[-0.2521619 -0.2521619  9.36371   ... -0.2521619 -0.2521619 -0.2521619]]  Distance:  33779057.50582595 \n",
      "\n",
      "Word:  [[-0.2521619 -0.2521619  9.36371   ... -0.2521619 -0.2521619 -0.2521619]]  Distance:  33779058.43489391 \n",
      "\n",
      "Word:  [[-0.2521619 -0.2521619  9.36371   ... -0.2521619 -0.2521619 -0.2521619]]  Distance:  33779057.5268252 \n",
      "\n",
      "Word:  [[-0.2521619 -0.2521619  9.36371   ... -0.2521619 -0.2521619 -0.2521619]]  Distance:  33779058.25346439 \n",
      "\n",
      "Word:  [[-0.2521619 -0.2521619  9.36371   ... -0.2521619 -0.2521619 -0.2521619]]  Distance:  33779057.160728976 \n",
      "\n",
      "Word:  [[-0.2521619 -0.2521619  9.36371   ... -0.2521619 -0.2521619 -0.2521619]]  Distance:  33779056.96701915 \n",
      "\n",
      "Word:  [[-0.2521619 -0.2521619  9.36371   ... -0.2521619 -0.2521619 -0.2521619]]  Distance:  33779057.45502901 \n",
      "\n",
      "Words corresponding to the largest 10 distances in cluster:  1 : \n",
      "\n",
      "Word:  [[-0.2521619 -0.2521619  9.36371   ... -0.2521619 -0.2521619 -0.2521619]]  Distance:  33779056.86806984 \n",
      "\n",
      "Word:  [[-0.2521619 -0.2521619  9.36371   ... -0.2521619 -0.2521619 -0.2521619]]  Distance:  33779059.779566556 \n",
      "\n",
      "Word:  [[-0.2521619 -0.2521619  9.36371   ... -0.2521619 -0.2521619 -0.2521619]]  Distance:  33779058.89030025 \n",
      "\n",
      "Word:  [[-0.2521619 -0.2521619  9.36371   ... -0.2521619 -0.2521619 -0.2521619]]  Distance:  33779057.50582595 \n",
      "\n",
      "Word:  [[-0.2521619 -0.2521619  9.36371   ... -0.2521619 -0.2521619 -0.2521619]]  Distance:  33779058.43489391 \n",
      "\n",
      "Word:  [[-0.2521619 -0.2521619  9.36371   ... -0.2521619 -0.2521619 -0.2521619]]  Distance:  33779057.5268252 \n",
      "\n",
      "Word:  [[-0.2521619 -0.2521619  9.36371   ... -0.2521619 -0.2521619 -0.2521619]]  Distance:  33779058.25346439 \n",
      "\n",
      "Word:  [[-0.2521619 -0.2521619  9.36371   ... -0.2521619 -0.2521619 -0.2521619]]  Distance:  33779057.160728976 \n",
      "\n",
      "Word:  [[-0.2521619 -0.2521619  9.36371   ... -0.2521619 -0.2521619 -0.2521619]]  Distance:  33779056.96701915 \n",
      "\n",
      "Word:  [[-0.2521619 -0.2521619  9.36371   ... -0.2521619 -0.2521619 -0.2521619]]  Distance:  33779057.45502901 \n",
      "\n"
     ]
    }
   ],
   "source": [
    "kmeans = KMeans(n_clusters = best_k, max_iter = 10000).fit(documents)\n",
    "labels = kmeans.labels_\n",
    "cluster_centers = kmeans.cluster_centers_\n",
    "distances = kmeans.inertia_\n",
    "\n",
    "documents_avg = np.mean(documents,0) \n",
    "distances_minus_avg = distances - documents_avg\n",
    "\n",
    "temp = []\n",
    "words = []\n",
    "\n",
    "# for each cluster \n",
    "for i in range(best_k):\n",
    "    \n",
    "    # go through each label. For each label go through each distances array and select 10 highest positive values\n",
    "    for j, label in enumerate(labels):\n",
    "        if(label == i):\n",
    "            temp.append(distances_minus_avg[j])\n",
    "            #words.append(labels[j])\n",
    "            words.append(documents[np.where(labels[j] == i)]) # NEED TO FIX THIS TO RETURN WORD\n",
    "    \n",
    "    # sort both lists at the same time\n",
    "    [x for _,x in sorted(zip(temp,words), reverse = True)]\n",
    "    \n",
    "    words_10 = words[10:]\n",
    "    temp_10 = temp[10:]\n",
    "    \n",
    "    # print words for largest 10 distances and distances\n",
    "    print(\"Words corresponding to the largest 10 distances in cluster: \", i, \": \\n\")\n",
    "    \n",
    "    for i in range(10):\n",
    "        print(\"Word: \", words_10[i+1], \" Distance: \", temp_10[i+1], \"\\n\")\n",
    "\n",
    "#### IN PROGRESS ######"
   ]
  },
  {
   "cell_type": "code",
   "execution_count": null,
   "metadata": {},
   "outputs": [],
   "source": []
  },
  {
   "cell_type": "markdown",
   "metadata": {},
   "source": [
    "#### (B) Term-wise Clustering"
   ]
  },
  {
   "cell_type": "code",
   "execution_count": null,
   "metadata": {},
   "outputs": [],
   "source": [
    "words = np.load('science2k-word-doc.npy')"
   ]
  },
  {
   "cell_type": "code",
   "execution_count": null,
   "metadata": {},
   "outputs": [],
   "source": [
    "words.shape"
   ]
  },
  {
   "cell_type": "code",
   "execution_count": null,
   "metadata": {},
   "outputs": [],
   "source": [
    "sil = []\n",
    "ks = []\n",
    "for k in range(2, 21):\n",
    "    kmeans = KMeans(n_clusters = k, max_iter = 10000).fit(words)\n",
    "    labels = kmeans.labels_\n",
    "    \n",
    "    # determine whether the documents are labeled correctly\n",
    "    sil.append(silhouette_score(words, labels, metric = 'euclidean'))\n",
    "\n",
    "    ks.append(k)"
   ]
  },
  {
   "cell_type": "code",
   "execution_count": null,
   "metadata": {},
   "outputs": [],
   "source": [
    "plt.plot(ks, sil)"
   ]
  },
  {
   "cell_type": "code",
   "execution_count": null,
   "metadata": {},
   "outputs": [],
   "source": [
    "best_k = ks[np.argmax(sil)]"
   ]
  },
  {
   "cell_type": "code",
   "execution_count": null,
   "metadata": {},
   "outputs": [],
   "source": [
    "print(best_k)"
   ]
  },
  {
   "cell_type": "code",
   "execution_count": null,
   "metadata": {},
   "outputs": [],
   "source": [
    "kmeans = KMeans(n_clusters = best_k, max_iter = 10000).fit(words)\n",
    "labels = kmeans.labels_\n",
    "cluster_centers = kmeans.cluster_centers_\n",
    "    \n",
    "#### IN PROGRESS ######"
   ]
  },
  {
   "cell_type": "markdown",
   "metadata": {},
   "source": [
    "# EM Algorithm and Implementation"
   ]
  },
  {
   "cell_type": "code",
   "execution_count": 23,
   "metadata": {},
   "outputs": [],
   "source": [
    "from sklearn.mixture import GaussianMixture"
   ]
  },
  {
   "cell_type": "markdown",
   "metadata": {},
   "source": [
    "#### (b) Plot Dataset"
   ]
  },
  {
   "cell_type": "code",
   "execution_count": 24,
   "metadata": {},
   "outputs": [],
   "source": [
    "with open('faithful.dat.txt') as f:\n",
    "    data = False\n",
    "    for i,line in enumerate(f):\n",
    "        if data == False:\n",
    "            if line == '    eruptions waiting\\n':\n",
    "                data = True\n",
    "                df = pd.DataFrame(columns=['eruptions', 'waiting'])\n",
    "        else:\n",
    "            line = line.split()\n",
    "            df.loc[line[0]] = line[1:]"
   ]
  },
  {
   "cell_type": "code",
   "execution_count": 27,
   "metadata": {},
   "outputs": [
    {
     "data": {
      "image/png": "[encoded data removed]",
      "text/plain": [
       "<Figure size 1440x720 with 1 Axes>"
      ]
     },
     "metadata": {},
     "output_type": "display_data"
    }
   ],
   "source": [
    "# plot dataframe\n",
    "plt.figure(figsize=(20,10))\n",
    "plt.scatter(df['eruptions'], df['waiting'])\n",
    "plt.xlabel('Eruptions')\n",
    "plt.ylabel('Waiting');"
   ]
  },
  {
   "cell_type": "markdown",
   "metadata": {},
   "source": [
    "#### (c) GMM"
   ]
  },
  {
   "cell_type": "code",
   "execution_count": 60,
   "metadata": {},
   "outputs": [],
   "source": [
    "iterations = []\n",
    "means1 = []\n",
    "means2 =[]\n",
    "for i in range(100, 10000, 10):\n",
    "    gmm = GaussianMixture(n_components=2, covariance_type = 'spherical', \\\n",
    "                            max_iter = i, init_params = 'random')\n",
    "    gmm.fit(df)\n",
    "    iterations.append(i)\n",
    "    means = gmm.means_\n",
    "    means1.append(means[0][0])\n",
    "    means2.append(means[1][0])"
   ]
  },
  {
   "cell_type": "code",
   "execution_count": 61,
   "metadata": {},
   "outputs": [
    {
     "ename": "ValueError",
     "evalue": "x and y must be the same size",
     "output_type": "error",
     "traceback": [
      "\u001b[1;31m---------------------------------------------------------------------------\u001b[0m",
      "\u001b[1;31mValueError\u001b[0m                                Traceback (most recent call last)",
      "\u001b[1;32m<ipython-input-61-6125eaf5d110>\u001b[0m in \u001b[0;36m<module>\u001b[1;34m()\u001b[0m\n\u001b[0;32m      1\u001b[0m \u001b[0mplt\u001b[0m\u001b[1;33m.\u001b[0m\u001b[0mfigure\u001b[0m\u001b[1;33m(\u001b[0m\u001b[0mfigsize\u001b[0m\u001b[1;33m=\u001b[0m\u001b[1;33m(\u001b[0m\u001b[1;36m20\u001b[0m\u001b[1;33m,\u001b[0m \u001b[1;36m10\u001b[0m\u001b[1;33m)\u001b[0m\u001b[1;33m)\u001b[0m\u001b[1;33m\u001b[0m\u001b[0m\n\u001b[1;32m----> 2\u001b[1;33m \u001b[0mplt\u001b[0m\u001b[1;33m.\u001b[0m\u001b[0mscatter\u001b[0m\u001b[1;33m(\u001b[0m\u001b[0miterations\u001b[0m\u001b[1;33m,\u001b[0m \u001b[0mmeans\u001b[0m\u001b[1;33m)\u001b[0m\u001b[1;33m\u001b[0m\u001b[0m\n\u001b[0m\u001b[0;32m      3\u001b[0m \u001b[0mplt\u001b[0m\u001b[1;33m.\u001b[0m\u001b[0mxlabel\u001b[0m\u001b[1;33m(\u001b[0m\u001b[1;34m'number of iterations'\u001b[0m\u001b[1;33m)\u001b[0m\u001b[1;33m\u001b[0m\u001b[0m\n\u001b[0;32m      4\u001b[0m \u001b[0mplt\u001b[0m\u001b[1;33m.\u001b[0m\u001b[0mylabel\u001b[0m\u001b[1;33m(\u001b[0m\u001b[1;34m'gaussian mixture model means'\u001b[0m\u001b[1;33m)\u001b[0m\u001b[1;33m;\u001b[0m\u001b[1;33m\u001b[0m\u001b[0m\n",
      "\u001b[1;32m~\\Anaconda3\\lib\\site-packages\\matplotlib\\pyplot.py\u001b[0m in \u001b[0;36mscatter\u001b[1;34m(x, y, s, c, marker, cmap, norm, vmin, vmax, alpha, linewidths, verts, edgecolors, hold, data, **kwargs)\u001b[0m\n\u001b[0;32m   3473\u001b[0m                          \u001b[0mvmin\u001b[0m\u001b[1;33m=\u001b[0m\u001b[0mvmin\u001b[0m\u001b[1;33m,\u001b[0m \u001b[0mvmax\u001b[0m\u001b[1;33m=\u001b[0m\u001b[0mvmax\u001b[0m\u001b[1;33m,\u001b[0m \u001b[0malpha\u001b[0m\u001b[1;33m=\u001b[0m\u001b[0malpha\u001b[0m\u001b[1;33m,\u001b[0m\u001b[1;33m\u001b[0m\u001b[0m\n\u001b[0;32m   3474\u001b[0m                          \u001b[0mlinewidths\u001b[0m\u001b[1;33m=\u001b[0m\u001b[0mlinewidths\u001b[0m\u001b[1;33m,\u001b[0m \u001b[0mverts\u001b[0m\u001b[1;33m=\u001b[0m\u001b[0mverts\u001b[0m\u001b[1;33m,\u001b[0m\u001b[1;33m\u001b[0m\u001b[0m\n\u001b[1;32m-> 3475\u001b[1;33m                          edgecolors=edgecolors, data=data, **kwargs)\n\u001b[0m\u001b[0;32m   3476\u001b[0m     \u001b[1;32mfinally\u001b[0m\u001b[1;33m:\u001b[0m\u001b[1;33m\u001b[0m\u001b[0m\n\u001b[0;32m   3477\u001b[0m         \u001b[0max\u001b[0m\u001b[1;33m.\u001b[0m\u001b[0m_hold\u001b[0m \u001b[1;33m=\u001b[0m \u001b[0mwashold\u001b[0m\u001b[1;33m\u001b[0m\u001b[0m\n",
      "\u001b[1;32m~\\Anaconda3\\lib\\site-packages\\matplotlib\\__init__.py\u001b[0m in \u001b[0;36minner\u001b[1;34m(ax, *args, **kwargs)\u001b[0m\n\u001b[0;32m   1865\u001b[0m                         \u001b[1;34m\"the Matplotlib list!)\"\u001b[0m \u001b[1;33m%\u001b[0m \u001b[1;33m(\u001b[0m\u001b[0mlabel_namer\u001b[0m\u001b[1;33m,\u001b[0m \u001b[0mfunc\u001b[0m\u001b[1;33m.\u001b[0m\u001b[0m__name__\u001b[0m\u001b[1;33m)\u001b[0m\u001b[1;33m,\u001b[0m\u001b[1;33m\u001b[0m\u001b[0m\n\u001b[0;32m   1866\u001b[0m                         RuntimeWarning, stacklevel=2)\n\u001b[1;32m-> 1867\u001b[1;33m             \u001b[1;32mreturn\u001b[0m \u001b[0mfunc\u001b[0m\u001b[1;33m(\u001b[0m\u001b[0max\u001b[0m\u001b[1;33m,\u001b[0m \u001b[1;33m*\u001b[0m\u001b[0margs\u001b[0m\u001b[1;33m,\u001b[0m \u001b[1;33m**\u001b[0m\u001b[0mkwargs\u001b[0m\u001b[1;33m)\u001b[0m\u001b[1;33m\u001b[0m\u001b[0m\n\u001b[0m\u001b[0;32m   1868\u001b[0m \u001b[1;33m\u001b[0m\u001b[0m\n\u001b[0;32m   1869\u001b[0m         inner.__doc__ = _add_data_doc(inner.__doc__,\n",
      "\u001b[1;32m~\\Anaconda3\\lib\\site-packages\\matplotlib\\axes\\_axes.py\u001b[0m in \u001b[0;36mscatter\u001b[1;34m(self, x, y, s, c, marker, cmap, norm, vmin, vmax, alpha, linewidths, verts, edgecolors, **kwargs)\u001b[0m\n\u001b[0;32m   4255\u001b[0m         \u001b[0my\u001b[0m \u001b[1;33m=\u001b[0m \u001b[0mnp\u001b[0m\u001b[1;33m.\u001b[0m\u001b[0mma\u001b[0m\u001b[1;33m.\u001b[0m\u001b[0mravel\u001b[0m\u001b[1;33m(\u001b[0m\u001b[0my\u001b[0m\u001b[1;33m)\u001b[0m\u001b[1;33m\u001b[0m\u001b[0m\n\u001b[0;32m   4256\u001b[0m         \u001b[1;32mif\u001b[0m \u001b[0mx\u001b[0m\u001b[1;33m.\u001b[0m\u001b[0msize\u001b[0m \u001b[1;33m!=\u001b[0m \u001b[0my\u001b[0m\u001b[1;33m.\u001b[0m\u001b[0msize\u001b[0m\u001b[1;33m:\u001b[0m\u001b[1;33m\u001b[0m\u001b[0m\n\u001b[1;32m-> 4257\u001b[1;33m             \u001b[1;32mraise\u001b[0m \u001b[0mValueError\u001b[0m\u001b[1;33m(\u001b[0m\u001b[1;34m\"x and y must be the same size\"\u001b[0m\u001b[1;33m)\u001b[0m\u001b[1;33m\u001b[0m\u001b[0m\n\u001b[0m\u001b[0;32m   4258\u001b[0m \u001b[1;33m\u001b[0m\u001b[0m\n\u001b[0;32m   4259\u001b[0m         \u001b[1;32mif\u001b[0m \u001b[0ms\u001b[0m \u001b[1;32mis\u001b[0m \u001b[1;32mNone\u001b[0m\u001b[1;33m:\u001b[0m\u001b[1;33m\u001b[0m\u001b[0m\n",
      "\u001b[1;31mValueError\u001b[0m: x and y must be the same size"
     ]
    },
    {
     "data": {
      "image/png": "[encoded data removed]",
      "text/plain": [
       "<Figure size 1440x720 with 1 Axes>"
      ]
     },
     "metadata": {},
     "output_type": "display_data"
    }
   ],
   "source": [
    "plt.figure(figsize=(20, 10))\n",
    "plt.scatter(iterations, means)\n",
    "plt.xlabel('number of iterations')\n",
    "plt.ylabel('gaussian mixture model means');"
   ]
  },
  {
   "cell_type": "markdown",
   "metadata": {},
   "source": [
    "# Multidimensional scaling for genetic population differences"
   ]
  },
  {
   "cell_type": "code",
   "execution_count": 173,
   "metadata": {},
   "outputs": [
    {
     "name": "stdout",
     "output_type": "stream",
     "text": [
      "[[  0.  87.  12. ... 462. 559. 553.]\n",
      " [ 87.   0.  87. ... 210. 359. 285.]\n",
      " [ 12.  87.   0. ... 317. 401. 377.]\n",
      " ...\n",
      " [462. 210. 317. ...   0. 226. 173.]\n",
      " [559. 359. 401. ... 226.   0. 127.]\n",
      " [553. 285. 377. ... 173. 127.   0.]]\n",
      "[b'Bantu' b'E. Afncan' b'Nilo-Saharan' b'W. African' b'San' b'Barter'\n",
      " b'Mbuti' b'Indian' b'Iranian' b'Near Eastern' b'Uralic' b'Ainu'\n",
      " b'Japanese' b'Korean' b'Mon Khmer' b'Thai' b'Dravidian' b'Mongol Tungus'\n",
      " b'Tibetan' b'Indonesian' b'Malaysian' b'Filipino' b'N. Turkic'\n",
      " b'S. Chinese' b'Basque' b'Lapp' b'Sardinian' b'Danish' b'English'\n",
      " b'Greek' b'Italian' b'C Amerind' b'Eskimo' b'Na-Dene' b'N. American'\n",
      " b'S. American' b'Chukchi' b'Melanesian' b'Micronesian' b'Polynesian'\n",
      " b'New Guinean' b'Australian']\n"
     ]
    }
   ],
   "source": [
    "# import libraries\n",
    "from sklearn.datasets import load_digits\n",
    "from sklearn.manifold import MDS\n",
    "#from pyclustering.cluster.kmedoids import kmedoids # PYTHON CANT FIND THIS :(\n",
    "from scipy.cluster.hierarchy import dendrogram, linkage\n",
    "from scipy.cluster.hierarchy import fcluster\n",
    "import pylab as pl\n",
    "data = np.load(\"mds-population.npz\")\n",
    "print (data['D']) # Distance matrix\n",
    "print (data['population_list']) # List of populations\n",
    "\n",
    "# WILL REMOVE THIS BECAUSE THE B IS NOT PART OF THE STRING IT JUST COMES OUT WHEN YOU PRINT \n",
    "# since there is a 'b' character before every ethnicity, remove it and clean the data\n",
    "#for i, element in enumerate (data['population_list']):\n",
    "    #print(element)\n",
    "    #element_clean = element[1:]\n",
    "    #print(element_clean)\n",
    "    #(data['population_list'])[i] = element_clean\n",
    "\n",
    "# print clean data\n",
    "#print (data['population_list']) "
   ]
  },
  {
   "cell_type": "markdown",
   "metadata": {},
   "source": [
    "a) Perform MDS and analyze the results"
   ]
  },
  {
   "cell_type": "markdown",
   "metadata": {},
   "source": [
    "i) "
   ]
  },
  {
   "cell_type": "markdown",
   "metadata": {},
   "source": [
    "In this case we are using metric MDS. Metric MDS assumes that the data can be represented by vectors \n",
    "along the set of dimensions indicated and that the relationship between the distance and the dissimilarity\n",
    "is inversely proportional. It also assumes the data lives in a low-dimensional manifold. - NOT SURE ABOUT THE MANIDOLF ONE NEED TO CHECK\n",
    "\n",
    "This could cause problems for the situation where the data is clumpy instead of manifoldy. It could also\n",
    "cause problems if, for instance, the principal directions of variation for a dataset are the first 3 dimensions, but we choose to only consider the first 2 dimensions for MDS.\n",
    "\n",
    "One way to measure how much information is being lost would be to apply MDS for the largest number of dimensions that we are willing to consider, then perform SVD on the resulting data to find the dimensions of greatest variation. Based on this we can optimize the number of dimensions that best represents the data and apply MDS again using this."
   ]
  },
  {
   "cell_type": "markdown",
   "metadata": {},
   "source": [
    "ii)"
   ]
  },
  {
   "cell_type": "markdown",
   "metadata": {},
   "source": [
    "For this part, we decided to perform MDS for a high number of dimensions and check the eigenvalues of the result \n",
    "by performing SVD. Looking at the singular values in S (covariance matrix) obtained from SVD, we decided to consider the first 5 dimensions as the ones which give an accurate low-dimensional representation of the data because they were powers of 100. The rest of singular values were powers of 10 and 1. We then used this finding to apply MDS with 5 dimensions."
   ]
  },
  {
   "cell_type": "code",
   "execution_count": 174,
   "metadata": {},
   "outputs": [
    {
     "name": "stdout",
     "output_type": "stream",
     "text": [
      "[7.17996342e+02 4.50094093e+02 3.72322380e+02 2.24184681e+02\n",
      " 1.35057972e+02 8.51266365e+01 7.28365666e+01 6.22395313e+01\n",
      " 2.50272772e+01 1.41174128e+01 8.65993611e+00 7.70120593e+00\n",
      " 2.00548250e+00 1.45532619e+00 6.69937279e-01 5.37546169e-01\n",
      " 1.34947362e-01 5.97723504e-02 5.11816112e-02 1.97025504e-02]\n"
     ]
    }
   ],
   "source": [
    "# apply 20 dimensional MDS\n",
    "embedding = MDS(n_components=20, dissimilarity = 'precomputed')\n",
    "out_MDS_20 = embedding.fit_transform(data['D'])\n",
    "\n",
    "# perform svd on the result\n",
    "U_out, S_out, VTrans_out = sp.linalg.svd(out_MDS_20)\n",
    "\n",
    "print(S_out) # found first 5 dimensions to be most significant\n",
    "\n",
    "# apply 5 dimensional MDS\n",
    "embedding = MDS(n_components=5, dissimilarity = 'precomputed')\n",
    "out_MDS_5 = embedding.fit_transform(data['D'])"
   ]
  },
  {
   "cell_type": "markdown",
   "metadata": {},
   "source": [
    "iii)"
   ]
  },
  {
   "cell_type": "code",
   "execution_count": 184,
   "metadata": {},
   "outputs": [
    {
     "ename": "SyntaxError",
     "evalue": "invalid syntax (<ipython-input-184-b9bf309a5f27>, line 10)",
     "output_type": "error",
     "traceback": [
      "\u001b[1;36m  File \u001b[1;32m\"<ipython-input-184-b9bf309a5f27>\"\u001b[1;36m, line \u001b[1;32m10\u001b[0m\n\u001b[1;33m    plt.annotate(point, ((data['population_list'])[i], (data['population_list'])[i])))\u001b[0m\n\u001b[1;37m                                                                                     ^\u001b[0m\n\u001b[1;31mSyntaxError\u001b[0m\u001b[1;31m:\u001b[0m invalid syntax\n"
     ]
    }
   ],
   "source": [
    "# apply 2 dimensional MDS\n",
    "embedding = MDS(n_components=2, dissimilarity = 'precomputed')\n",
    "out_MDS = embedding.fit_transform(data['D'])\n",
    "\n",
    "# display results\n",
    "plt.scatter(out_MDS[:, 0], out_MDS[:, 1])\n",
    "plt.savefig('MDS')\n",
    "\n",
    "for i, point in enumerate(data['D']):\n",
    "    plt.annotate(point, ((data['population_list'])[i], (data['population_list'])[i])))"
   ]
  },
  {
   "cell_type": "markdown",
   "metadata": {},
   "source": [
    "b) k-means on 2d embedding"
   ]
  },
  {
   "cell_type": "code",
   "execution_count": 179,
   "metadata": {},
   "outputs": [
    {
     "name": "stdout",
     "output_type": "stream",
     "text": [
      "4\n"
     ]
    },
    {
     "data": {
      "image/png": "[encoded data removed]",
      "text/plain": [
       "<Figure size 432x288 with 1 Axes>"
      ]
     },
     "metadata": {
      "needs_background": "light"
     },
     "output_type": "display_data"
    }
   ],
   "source": [
    "# find the best k\n",
    "\n",
    "sil = []\n",
    "ks = []\n",
    "\n",
    "for k in range(2, 5):\n",
    "    kmeans = KMeans(n_clusters = k, max_iter = 10000).fit(out_MDS)\n",
    "    labels = kmeans.labels_\n",
    "    distances = kmeans.inertia_\n",
    "    \n",
    "    # determine whether the documents are labeled correctly\n",
    "    sil.append(silhouette_score(out_MDS, labels, metric = 'euclidean'))\n",
    "\n",
    "    ks.append(k)\n",
    "    \n",
    "best_k = ks[np.argmax(sil)]\n",
    "\n",
    "print(best_k)\n",
    "\n",
    "# run k-means on data with best k \n",
    "\n",
    "kmeans_best = KMeans(n_clusters = best_k, max_iter = 10000).fit(out_MDS)\n",
    "kmeans_best.fit(out_MDS)\n",
    "y_kmeans = kmeans_best.predict(out_MDS)\n",
    "centers = kmeans_best.cluster_centers_\n",
    "\n",
    "plt.scatter(out_MDS[:, 0], out_MDS[:, 1], c=y_kmeans, s=50, cmap='viridis')\n",
    "plt.scatter(centers[:, 0], centers[:, 1], c='black', s=50, alpha=0.5)\n",
    "plt.savefig('kmeans_4')"
   ]
  },
  {
   "cell_type": "markdown",
   "metadata": {},
   "source": [
    "We don't fully agree with the clustering results because it also looks like there could be 3 clusters, or even 4. The information about what features the distance is being calculated on is vital for understanding and representing the data, as well as for figuring out if the clusters make sense."
   ]
  },
  {
   "cell_type": "markdown",
   "metadata": {},
   "source": [
    "c) Comparing hierarchical clustering with k-means"
   ]
  },
  {
   "cell_type": "code",
   "execution_count": 180,
   "metadata": {},
   "outputs": [
    {
     "name": "stderr",
     "output_type": "stream",
     "text": [
      "C:\\Users\\evatr\\Anaconda3\\lib\\site-packages\\ipykernel_launcher.py:1: ClusterWarning: scipy.cluster: The symmetric non-negative hollow observation matrix looks suspiciously like an uncondensed distance matrix\n",
      "  \"\"\"Entry point for launching an IPython kernel.\n"
     ]
    },
    {
     "data": {
      "image/png": "[encoded data removed]",
      "text/plain": [
       "<Figure size 1080x720 with 1 Axes>"
      ]
     },
     "metadata": {
      "needs_background": "light"
     },
     "output_type": "display_data"
    }
   ],
   "source": [
    "Z = linkage(data['D'])\n",
    "plt.figure(figsize=(15,10))\n",
    "dn = dendrogram(Z, no_plot = True)\n",
    "labels = data['population_list']\n",
    "lenght = len(labels)\n",
    "\n",
    "# create a dictionary for the labels\n",
    "temp = {dn[\"leaves\"][ii]: labels[ii] for ii in range(len(dn[\"leaves\"]))}\n",
    "def llf(xx):\n",
    "    return \"{}\".format(temp[xx])\n",
    "\n",
    "# dendogram with the labels we want\n",
    "dn = dendrogram(Z, leaf_label_func=llf)\n",
    "\n",
    "plt.xlabel('Categories')\n",
    "plt.ylabel('Distance')\n",
    "plt.savefig('hierarchy')"
   ]
  },
  {
   "cell_type": "code",
   "execution_count": 181,
   "metadata": {},
   "outputs": [
    {
     "name": "stdout",
     "output_type": "stream",
     "text": [
      "[1 2 2 2 2 2 1 2 2 2 2 2 2 2 2 2 2 2 2 2 2 2 2 2 2 2 2 2 2 2 2 2 2 2 2 2 2\n",
      " 2 2 2 2 2]\n"
     ]
    }
   ],
   "source": [
    "# turn resulting tree into flat clustering of points\n",
    "flat_clusters = fcluster(Z, t=601.38, criterion='distance') # using a threshold of 601.38 for the distance we get two clusters (k=2) \n",
    "# and most of the points assigned to the second cluster, like in k-means above\n",
    "\n",
    "print(flat_clusters)"
   ]
  },
  {
   "cell_type": "code",
   "execution_count": 182,
   "metadata": {},
   "outputs": [
    {
     "name": "stdout",
     "output_type": "stream",
     "text": [
      "Colors Array Shape:  (42,)\n"
     ]
    },
    {
     "data": {
      "image/png": "[encoded data removed]",
      "text/plain": [
       "<Figure size 432x288 with 1 Axes>"
      ]
     },
     "metadata": {
      "needs_background": "light"
     },
     "output_type": "display_data"
    }
   ],
   "source": [
    "# plot results\n",
    "colors = [] # to store colour of each point to in the scatterplot\n",
    "\n",
    "# display results\n",
    "for i, element in enumerate(flat_clusters):\n",
    "    if(element == 1):\n",
    "        colors.append(\"red\")\n",
    "    else:\n",
    "        colors.append(\"blue\")\n",
    "\n",
    "colors_array = np.asarray(colors)\n",
    "\n",
    "# check it is the right size and the code is working properly\n",
    "print(\"Colors Array Shape: \", colors_array.shape)\n",
    "\n",
    "# display results\n",
    "plt.scatter(out_MDS[:, 0], out_MDS[:, 1], c=colors)\n",
    "plt.savefig('flat_clusters')"
   ]
  },
  {
   "cell_type": "markdown",
   "metadata": {},
   "source": [
    "Compared to the k-means clustering computer earlier, this technique groups more points into the second cluster. The first cluster in this case only contains 2 points. The k-means clustering results look more realistic and efficient."
   ]
  },
  {
   "cell_type": "markdown",
   "metadata": {},
   "source": [
    "d) k-medoids comparison with k-means"
   ]
  },
  {
   "cell_type": "code",
   "execution_count": 35,
   "metadata": {},
   "outputs": [
    {
     "ename": "NameError",
     "evalue": "name 'kmedoids' is not defined",
     "output_type": "error",
     "traceback": [
      "\u001b[1;31m---------------------------------------------------------------------------\u001b[0m",
      "\u001b[1;31mNameError\u001b[0m                                 Traceback (most recent call last)",
      "\u001b[1;32m<ipython-input-35-6ba69a92906b>\u001b[0m in \u001b[0;36m<module>\u001b[1;34m\u001b[0m\n\u001b[0;32m      3\u001b[0m \u001b[1;33m\u001b[0m\u001b[0m\n\u001b[0;32m      4\u001b[0m \u001b[1;31m# Create instance of k-medoids\u001b[0m\u001b[1;33m\u001b[0m\u001b[1;33m\u001b[0m\u001b[1;33m\u001b[0m\u001b[0m\n\u001b[1;32m----> 5\u001b[1;33m \u001b[0mkmedoids\u001b[0m \u001b[1;33m=\u001b[0m \u001b[0mkmedoids\u001b[0m\u001b[1;33m(\u001b[0m\u001b[0mout_MDS\u001b[0m\u001b[1;33m,\u001b[0m \u001b[0minitial_medoids\u001b[0m\u001b[1;33m)\u001b[0m\u001b[1;33m\u001b[0m\u001b[1;33m\u001b[0m\u001b[0m\n\u001b[0m\u001b[0;32m      6\u001b[0m \u001b[1;33m\u001b[0m\u001b[0m\n\u001b[0;32m      7\u001b[0m \u001b[1;31m# obtain k-medoids results\u001b[0m\u001b[1;33m\u001b[0m\u001b[1;33m\u001b[0m\u001b[1;33m\u001b[0m\u001b[0m\n",
      "\u001b[1;31mNameError\u001b[0m: name 'kmedoids' is not defined"
     ]
    }
   ],
   "source": [
    "# apply k-medoids clustering to data\n",
    "init_medoids = [1, 500]\n",
    "\n",
    "# Create instance of k-medoids\n",
    "kmedoids = kmedoids(out_MDS, initial_medoids)\n",
    "\n",
    "# obtain k-medoids results\n",
    "kmedoids.process()\n",
    "\n",
    "clusters = kmedoids.get_clusters()"
   ]
  },
  {
   "cell_type": "code",
   "execution_count": null,
   "metadata": {},
   "outputs": [],
   "source": []
  }
 ],
 "metadata": {
  "kernelspec": {
   "display_name": "Python 3",
   "language": "python",
   "name": "python3"
  },
  "language_info": {
   "codemirror_mode": {
    "name": "ipython",
    "version": 3
   },
   "file_extension": ".py",
   "mimetype": "text/x-python",
   "name": "python",
   "nbconvert_exporter": "python",
   "pygments_lexer": "ipython3",
   "version": "3.7.3"
  }
 },
 "nbformat": 4,
 "nbformat_minor": 2
}
