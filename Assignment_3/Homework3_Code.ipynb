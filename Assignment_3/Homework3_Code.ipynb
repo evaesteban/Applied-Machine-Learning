{
 "cells": [
  {
   "cell_type": "markdown",
   "metadata": {},
   "source": [
    "## Sentiment Analysis for Online Reviews"
   ]
  },
  {
   "cell_type": "code",
   "execution_count": 1,
   "metadata": {},
   "outputs": [
    {
     "name": "stdout",
     "output_type": "stream",
     "text": [
      "[nltk_data] Downloading package wordnet to\n",
      "[nltk_data]     C:\\Users\\simir\\AppData\\Roaming\\nltk_data...\n",
      "[nltk_data]   Package wordnet is already up-to-date!\n",
      "[nltk_data] Downloading package stopwords to\n",
      "[nltk_data]     C:\\Users\\simir\\AppData\\Roaming\\nltk_data...\n",
      "[nltk_data]   Package stopwords is already up-to-date!\n",
      "[nltk_data] Downloading package punkt to\n",
      "[nltk_data]     C:\\Users\\simir\\AppData\\Roaming\\nltk_data...\n",
      "[nltk_data]   Package punkt is already up-to-date!\n"
     ]
    }
   ],
   "source": [
    "# libraries to import\n",
    "import string\n",
    "import math\n",
    "import pandas as pd\n",
    "import numpy as np\n",
    "import nltk as nltk\n",
    "import scipy as sp\n",
    "import matplotlib.pyplot as plt\n",
    "nltk.download('wordnet')\n",
    "nltk.download('stopwords')\n",
    "nltk.download('punkt')\n",
    "from nltk.corpus import stopwords \n",
    "from nltk.tokenize import word_tokenize\n",
    "from nltk.stem import WordNetLemmatizer  \n",
    "from sklearn.metrics import confusion_matrix, accuracy_score\n",
    "from sklearn.linear_model import LogisticRegression\n",
    "from sklearn.naive_bayes import GaussianNB\n",
    "from sklearn.cluster import KMeans"
   ]
  },
  {
   "cell_type": "markdown",
   "metadata": {},
   "source": [
    "#### a) Downloading, reading and analyzing datasets"
   ]
  },
  {
   "cell_type": "code",
   "execution_count": 2,
   "metadata": {},
   "outputs": [],
   "source": [
    "# load data in the right> format according to readme files\n",
    "yelp=pd.read_csv(\"sentiment_labelled_sentences\\yelp_labelled.txt\",delimiter=\"\\t\", names=[\"Sentence\", \"Label\"])\n",
    "imdb=pd.read_csv(\"sentiment_labelled_sentences\\imdb_labelled.txt\",delimiter=\"\\t\", names=[\"Sentence\", \"Label\"])\n",
    "amazon=pd.read_csv(\"sentiment_labelled_sentences\\labelled_amazon.txt\",delimiter=\"\\t\", names=[\"Sentence\", \"Label\"])"
   ]
  },
  {
   "cell_type": "code",
   "execution_count": 3,
   "metadata": {},
   "outputs": [
    {
     "name": "stdout",
     "output_type": "stream",
     "text": [
      "Number of 1s in Yelp: 500\n",
      "Number of 0s in Yelp: 500\n",
      "Number of 1s in Imdb: 386\n",
      "Number of 0s in Imdb: 362\n",
      "Number of 1s in Amazon: 500\n",
      "Number of 0s in Amazon: 500\n"
     ]
    }
   ],
   "source": [
    "# check if data is balanced in all three dataframes\n",
    "\n",
    "# yelp\n",
    "ones_yelp = len(yelp[yelp['Label'] == 1])\n",
    "zeros_yelp = len(yelp[yelp['Label'] == 0])\n",
    "print('Number of 1s in Yelp:', ones_yelp)\n",
    "print('Number of 0s in Yelp:', zeros_yelp)\n",
    "\n",
    "#imdb\n",
    "ones_imdb = len(imdb[imdb['Label'] == 1])\n",
    "zeros_imdb = len(imdb[imdb['Label'] == 0])\n",
    "print('Number of 1s in Imdb:', ones_imdb)\n",
    "print('Number of 0s in Imdb:', zeros_imdb)\n",
    "\n",
    "#amazon\n",
    "ones_amazon = len(amazon[amazon['Label'] == 1])\n",
    "zeros_amazon = len(amazon[amazon['Label'] == 0])\n",
    "print('Number of 1s in Amazon:', ones_amazon)\n",
    "print('Number of 0s in Amazon:', zeros_amazon)"
   ]
  },
  {
   "cell_type": "markdown",
   "metadata": {},
   "source": [
    "The data in the Yelp and Amazon files is balanced because there are the same number of 1s and 0s as labels. \n",
    "The data in the Imdb file can be considered almost balancen because the number of 1s and 0s is almost the same (386 and 362, respectively). The ratio of 1s to 0s is 386/362 = 1.067."
   ]
  },
  {
   "cell_type": "markdown",
   "metadata": {},
   "source": [
    "#### b) Pre-processing datasets"
   ]
  },
  {
   "cell_type": "code",
   "execution_count": 4,
   "metadata": {},
   "outputs": [],
   "source": [
    "# function to preprocess data\n",
    "def preprocessing(data):\n",
    "    stop_words = set(stopwords.words('english')) # find stop words in English language\n",
    "    lemmatizer = WordNetLemmatizer() # declare nltk lemmatizer\n",
    "\n",
    "    # iterate through every sentence and replace it by itself lemmatized, without punctuation and without stop words\n",
    "    for i in data['Sentence'].index:\n",
    "    \n",
    "        # remove punctuation\n",
    "        sentence_no_punct = ''\n",
    "        for char in (data.at[i, 'Sentence']):\n",
    "            if char not in string.punctuation:\n",
    "                sentence_no_punct = sentence_no_punct + char\n",
    "        (data.at[i, 'Sentence']) = sentence_no_punct\n",
    "\n",
    "        word_tokens = word_tokenize(data.at[i, 'Sentence'])\n",
    "        \n",
    "        # remove stop words and lemmatize\n",
    "        word_tokens = [lemmatizer.lemmatize(word) for word in word_tokens if word not in stop_words]\n",
    "        word_tokens = [lemmatizer.lemmatize(word, 'v') for word in word_tokens]\n",
    "        word_tokens = [lemmatizer.lemmatize(word, 'a') for word in word_tokens]\n",
    "        \n",
    "        # remove conjunction words\n",
    "        word_tokens = [word for word in word_tokens if word[-2:] != 'nt']\n",
    "        (data.at[i, 'Sentence']) = ' '.join(word_tokens)\n",
    "        \n",
    "    return data"
   ]
  },
  {
   "cell_type": "code",
   "execution_count": 5,
   "metadata": {},
   "outputs": [],
   "source": [
    "# convert all letters to lower case\n",
    "yelp = yelp.applymap(lambda s:s.lower() if type(s) == str else s)\n",
    "imdb = imdb.applymap(lambda s:s.lower() if type(s) == str else s)\n",
    "amazon = amazon.applymap(lambda s:s.lower() if type(s) == str else s)\n",
    "\n",
    "# lemmatize, remove punctuation, remove stop words\n",
    "preprocessing(yelp)\n",
    "preprocessing(imdb)\n",
    "preprocessing(amazon);"
   ]
  },
  {
   "cell_type": "markdown",
   "metadata": {},
   "source": [
    "For this part, we decided to convert all sentences to lower case, so that the same word with some upper case letters and without them would not be detected as different words since we are using the string type which takes into account their differences. \n",
    "\n",
    "We also stripped the sentences of stop words because they do not add any meaning as the same stop words appear in many different sentences.\n",
    "\n",
    "Additionally, we removed the punctuation because it does not add any meaning to the word analysis exercise we will do in this question. \n",
    "\n",
    "We also lemmatized all the words because we are interested in knowing which class of words they belong to in order to understand the meaning of the sentence and not whether they are a noun, adjective, etc.\n",
    "\n",
    "We finally removed words with the conjunction \"n't\" because these are also meaningless words like \"isn't\" and \"didn't\". They are basically stop words but are not caught by the stop word checker because of the extra \"n't\"."
   ]
  },
  {
   "cell_type": "markdown",
   "metadata": {},
   "source": [
    "#### c) Split training and testing data"
   ]
  },
  {
   "cell_type": "code",
   "execution_count": 6,
   "metadata": {},
   "outputs": [],
   "source": [
    "# split the three datasets into training and testing data according to the specifications\n",
    "\n",
    "def split_data(data):\n",
    "    data.reset_index(drop=True)\n",
    "    training = (data.query('Label == 1' )).head(400).append((data.query('Label == 0' )).head(400))\n",
    "    testing = (data.query('Label == 1' )).tail(100).append((data.query('Label == 0' )).tail(100))\n",
    "    return training, testing"
   ]
  },
  {
   "cell_type": "code",
   "execution_count": 7,
   "metadata": {},
   "outputs": [],
   "source": [
    "# split yelp\n",
    "training_yelp, testing_yelp = split_data(yelp)\n",
    "\n",
    "# split imdb\n",
    "training_imdb, testing_imdb = split_data(imdb)\n",
    "\n",
    "# split amazon\n",
    "training_amazon, testing_amazon = split_data(amazon)"
   ]
  },
  {
   "cell_type": "code",
   "execution_count": 8,
   "metadata": {},
   "outputs": [
    {
     "name": "stdout",
     "output_type": "stream",
     "text": [
      "(2348, 2)\n",
      "(600, 2)\n"
     ]
    }
   ],
   "source": [
    "# concatenate training and testing data for all files\n",
    "train_data = training_yelp.append(training_imdb, ignore_index=True).append(training_amazon, ignore_index=True)\n",
    "print(np.shape(train_data)) # this not exactly 2400? Because IMDB does not reach 800 data points...but why\n",
    "\n",
    "test_data = testing_yelp.append(testing_imdb, ignore_index=True).append(testing_amazon, ignore_index=True)\n",
    "print(np.shape(test_data)) "
   ]
  },
  {
   "cell_type": "markdown",
   "metadata": {},
   "source": [
    "#### d) Bag of Words model"
   ]
  },
  {
   "cell_type": "markdown",
   "metadata": {},
   "source": [
    "For this question we cannot use the testing set to create the dictionary of unique words because the model needs to be created with the training set so that we can use the testing set as new data to test our model's ability to generalize. If we create the dictionary with the testing data, we are essentially using all the data as training data and would need to look for another set of new data to test the classifier."
   ]
  },
  {
   "cell_type": "code",
   "execution_count": 22,
   "metadata": {},
   "outputs": [],
   "source": [
    "# create set of unique words in training set\n",
    "word_dictionary = {}\n",
    "\n",
    "# iterate through every word or every sentence and store it in dictionary with count 0 (the count will be updated\n",
    "# later when we iterate through both testing and training set\n",
    "for i in train_data.index:\n",
    "    word_tokens_training = word_tokenize(train_data.at[i, 'Sentence'])\n",
    "    for word in word_tokens_training:\n",
    "        word_dictionary[word] = 0\n",
    "        \n",
    "# count the number of occurrences of each word in dictionary in training set\n",
    "for i in train_data.index:\n",
    "    word_tokens_training = word_tokenize(train_data.at[i, 'Sentence'])\n",
    "    for word in word_tokens_training:\n",
    "        if word in word_dictionary:\n",
    "            word_dictionary[word] += 1\n",
    "            \n",
    "# count the number of occurences of each word in dictionary in testing set  \n",
    "for i in test_data.index:\n",
    "    word_tokens_testing = word_tokenize(test_data.at[i, 'Sentence'])\n",
    "    for word in word_tokens_testing:\n",
    "        if word in word_dictionary:\n",
    "            word_dictionary[word] += 1\n",
    "\n",
    "# create one feature vector per review\n",
    "feature_column = [] # list to store the feature vectors and add to dataframe at the end\n",
    "for i in train_data.index:\n",
    "    word_tokens_training = word_tokenize(train_data.at[i, 'Sentence'])\n",
    "    feature_vector = np.zeros(len(word_dictionary.keys())) # to store feature vector in each iteration\n",
    "    for j, dict_word in enumerate(word_dictionary.keys()):\n",
    "        if dict_word in word_tokens_training:\n",
    "            feature_vector[j] = math.log(word_dictionary[dict_word] + 1) # apply log normalization\n",
    "    feature_column.append(feature_vector) \n",
    "train_data['Vectors'] = feature_column\n",
    "\n",
    "feature_column = [] # list to store the feature vectors and add to dataframe at the end\n",
    "for i in test_data.index:\n",
    "    word_tokens_testing = word_tokenize(test_data.at[i, 'Sentence'])\n",
    "    feature_vector = np.zeros(len(word_dictionary.keys())) # to store feature vector in each iteration\n",
    "    for j, dict_word in enumerate(word_dictionary.keys()):\n",
    "        if dict_word in word_tokens_testing:\n",
    "            feature_vector[j] = math.log(word_dictionary[dict_word] + 1) # apply log normalization\n",
    "    feature_column.append(feature_vector) \n",
    "test_data['Vectors'] = feature_column"
   ]
  },
  {
   "cell_type": "code",
   "execution_count": 21,
   "metadata": {},
   "outputs": [],
   "source": [
    "# report 2 feature vectors\n",
    "with open('2d.txt', 'w') as f:\n",
    "    f.write('Vector1\\n')\n",
    "    f.write(str(test_data['Vectors'][0]).replace('\\n', ''))\n",
    "    f.write('\\n\\n')\n",
    "    f.write('Vector2\\n')\n",
    "    f.write(str(test_data['Vectors'][1]).replace('\\n', ''))"
   ]
  },
  {
   "cell_type": "markdown",
   "metadata": {},
   "source": [
    "#### e) Pick postprocessing strategy"
   ]
  },
  {
   "cell_type": "markdown",
   "metadata": {},
   "source": [
    "We decided to use log normalization as our postprocessing strategy to make data less skewed and focus on relative differences by bringing the feature vectors into the log space. We added the normalization step in the code for d) as we were constructing the feature vectors in order to reduce the number of iterations we need to go through the data.\n",
    "\n",
    "We decided not to apply mean subtraction and division by standard deviation there are some standard deviations that are equal to zero, resulting in a divide by zero error. Also, the number of dimensions (words) of the feature vectors is significant, so choosing L1 or L2 norm might result in similar distance measures for sentences with different words, so we discarded these techniques. "
   ]
  },
  {
   "cell_type": "markdown",
   "metadata": {},
   "source": [
    "#### f) Sentiment prediction"
   ]
  },
  {
   "cell_type": "code",
   "execution_count": 28,
   "metadata": {},
   "outputs": [],
   "source": [
    "# function to perform sentiment analysis\n",
    "def Sentiment_Analysis(train_data, train_labels, test_data, test_labels):\n",
    "    # split training and testing data into X (data) and Y (labels)\n",
    "    x_train = list(train_data) \n",
    "    y_train = list(train_labels)\n",
    "\n",
    "    x_test = list(test_data) \n",
    "    y_test = list(test_labels)\n",
    "\n",
    "    # initialize and fit logistic regression model with training data\n",
    "    lr = LogisticRegression(solver = 'lbfgs', max_iter = 10000)\n",
    "    lr.fit(x_train, y_train)\n",
    "\n",
    "    # predict the result for the testing data\n",
    "    lr_pred = lr.predict(x_test) \n",
    "    \n",
    "    lr_weight = lr.coef_\n",
    "\n",
    "    # calculate accuracy\n",
    "    lr_acc = accuracy_score(lr_pred, y_test)\n",
    "\n",
    "    # initialize and fit naive bayes model gaussian prior with training data\n",
    "    gnb = GaussianNB()\n",
    "    gnb.fit(x_train, y_train)\n",
    "\n",
    "    # predict the results for the test set\n",
    "    gnb_pred = gnb.predict(x_test)\n",
    "    \n",
    "    gnb_weight = gnb.theta_\n",
    "\n",
    "    # calculate accuracy\n",
    "    gnb_acc = accuracy_score(gnb_pred, y_test)\n",
    "\n",
    "    # confusion matrix calculations\n",
    "    \n",
    "    cfn_matrix_lr = confusion_matrix(y_test, lr_pred)\n",
    "    cfn_matrix_gnb = confusion_matrix(y_test, gnb_pred)\n",
    "    \n",
    "    # return accuracy and confusion matrices for logistic regression and naive bayes\n",
    "    return lr_acc, gnb_acc, cfn_matrix_lr, cfn_matrix_gnb, lr_weight, gnb_weight"
   ]
  },
  {
   "cell_type": "code",
   "execution_count": 29,
   "metadata": {},
   "outputs": [
    {
     "name": "stdout",
     "output_type": "stream",
     "text": [
      "[[260  40]\n",
      " [ 52 248]]\n",
      "[[234  66]\n",
      " [ 59 241]]\n"
     ]
    },
    {
     "data": {
      "image/png": "[encoded data removed]",
      "text/plain": [
       "<Figure size 432x288 with 2 Axes>"
      ]
     },
     "metadata": {},
     "output_type": "display_data"
    },
    {
     "data": {
      "image/png": "[encoded data removed]",
      "text/plain": [
       "<Figure size 432x288 with 2 Axes>"
      ]
     },
     "metadata": {},
     "output_type": "display_data"
    }
   ],
   "source": [
    "lr_acc, gnb_acc, cfn_matrix_lr, cfn_matrix_gnb, \\\n",
    "lr_weight, gnb_weight = Sentiment_Analysis(train_data['Vectors'], train_data['Label'], \\\n",
    "                                                 test_data['Vectors'], test_data['Label'])\n",
    "\n",
    "# display logistic regression confusion matrix\n",
    "print(cfn_matrix_lr)\n",
    "\n",
    "# display the matrix in an intuitive way\n",
    "fig, ax = plt.subplots()\n",
    "plt.imshow(cfn_matrix_lr)\n",
    "plt.colorbar()\n",
    "plt.title('Logistic Regression Confusion Matrix')\n",
    "classes = [0,1]\n",
    "ax.set(xticks=classes,yticks=classes,xticklabels=classes,yticklabels=classes,ylabel='True',xlabel='Predicted');\n",
    "plt.savefig('LR_ConfMatrix')\n",
    "\n",
    "# display naive bayes confusion matrix\n",
    "print(cfn_matrix_gnb)\n",
    "\n",
    "# display the matrix in an intuitive way\n",
    "fig, ax = plt.subplots()\n",
    "plt.imshow(cfn_matrix_gnb)\n",
    "plt.colorbar()\n",
    "plt.title('Naive Bayes Confusion Matrix')\n",
    "classes = [0,1]\n",
    "ax.set(xticks=classes,yticks=classes,xticklabels=classes,yticklabels=classes,ylabel='True',xlabel='Predicted');\n",
    "plt.savefig('NB_ConfMatrix')"
   ]
  },
  {
   "cell_type": "code",
   "execution_count": 26,
   "metadata": {},
   "outputs": [
    {
     "name": "stdout",
     "output_type": "stream",
     "text": [
      "Logistic Regression accuracy is:  0.8466666666666667\n",
      "Naive Bayes accuracy is:  0.7916666666666666\n"
     ]
    }
   ],
   "source": [
    "# pring both accuracies\n",
    "print(\"Logistic Regression accuracy is: \", lr_acc)\n",
    "print(\"Naive Bayes accuracy is: \", gnb_acc)"
   ]
  },
  {
   "cell_type": "code",
   "execution_count": 50,
   "metadata": {},
   "outputs": [
    {
     "name": "stdout",
     "output_type": "stream",
     "text": [
      "beautiful\n",
      "delight\n",
      "tender\n",
      "realize\n",
      "wonderful\n",
      "delicious\n",
      "fantastic\n",
      "satisfy\n",
      "perfect\n",
      "awesome\n",
      "soundtrack\n",
      "struggle\n",
      "15\n",
      "1010\n",
      "role\n",
      "cinema\n",
      "sturdy\n"
     ]
    }
   ],
   "source": [
    "# inspect weights in lr\n",
    "words = list(word_dictionary.keys())\n",
    "for i, weight in enumerate(lr_weight[0]):\n",
    "    if weight > 1:\n",
    "        print (words[i])"
   ]
  },
  {
   "cell_type": "code",
   "execution_count": 53,
   "metadata": {},
   "outputs": [
    {
     "name": "stdout",
     "output_type": "stream",
     "text": [
      "place\n",
      "service\n",
      "food\n",
      "good\n",
      "like\n",
      "go\n",
      "time\n",
      "one\n",
      "get\n",
      "bad\n",
      "make\n",
      "would\n",
      "work\n",
      "movie\n",
      "film\n",
      "phone\n"
     ]
    }
   ],
   "source": [
    "# inspect weights in gnb\n",
    "for i, weight in enumerate(gnb_weight[0]):\n",
    "    if weight > 0.18:\n",
    "        print (words[i])"
   ]
  },
  {
   "cell_type": "markdown",
   "metadata": {},
   "source": [
    "#### (g) N-gram model"
   ]
  },
  {
   "cell_type": "code",
   "execution_count": 54,
   "metadata": {},
   "outputs": [],
   "source": [
    "# function to create n-gram dictionary\n",
    "def ngram_dict(n, train_data, test_data):\n",
    "    # create set of unique words in training set\n",
    "    word_dict = {}\n",
    "\n",
    "    # iterate through every word or every sentence and store it in dictionary with count 0 (the count will be updated\n",
    "    # later when we iterate through both testing and training set\n",
    "    for i in train_data.index:\n",
    "        word_tokens_training = word_tokenize(train_data.at[i, 'Sentence'])\n",
    "        for j in range(len(word_tokens_training)):\n",
    "            if j+n < len(word_tokens_training):\n",
    "                words = ' '.join([word_tokens_training[k] for k in range(j,j+n)])\n",
    "                word_dict[words] = 0\n",
    "    \n",
    "    # count the number of occurences of each word in dictionary in training set\n",
    "    for i in train_data.index:\n",
    "        word_tokens_training = word_tokenize(train_data.at[i, 'Sentence'])\n",
    "        for j in range(len(word_tokens_training)):\n",
    "            if j+n < len(word_tokens_training):\n",
    "                words = ' '.join([word_tokens_training[k] for k in range(j,j+n)])\n",
    "                if words in word_dict:\n",
    "                    word_dict[words] += 1\n",
    "    # count the number of occurences of each word in dictionary in testing set  \n",
    "    for i in test_data.index:\n",
    "        word_tokens_testing = word_tokenize(test_data.at[i, 'Sentence'])\n",
    "        for j in range(len(word_tokens_testing)):\n",
    "            if j+n < len(word_tokens_testing):\n",
    "                words = ' '.join([word_tokens_testing[k] for k in range(j,j+n)])\n",
    "                if words in word_dict:\n",
    "                    word_dict[words] += 1\n",
    "    return word_dict\n",
    "\n",
    "# function to obtain n-gram feature vectors\n",
    "def ngram_feature_vec(n, data, word_dict):\n",
    "    feature_vecs = []\n",
    "    for i in data.index:\n",
    "        word_tokens = word_tokenize(data.at[i, 'Sentence'])\n",
    "        \n",
    "        # create a lst of ngrams for this review\n",
    "        ngram_lst = []\n",
    "        for j in range(len(word_tokens)):\n",
    "            if j+n < len(word_tokens):\n",
    "                ngram_lst.append(' '.join([word_tokens[k] for k in range(j,j+n)]))\n",
    "        \n",
    "        feature_vector = np.zeros(len(word_dict.keys())) # to store feature vector of this review\n",
    "        for k, dict_word in enumerate(word_dict.keys()):\n",
    "            if dict_word in ngram_lst:\n",
    "                feature_vector[k] = math.log(word_dict[dict_word] + 1) # apply log normalization\n",
    "                \n",
    "        feature_vecs.append(feature_vector) \n",
    "    return feature_vecs"
   ]
  },
  {
   "cell_type": "code",
   "execution_count": 55,
   "metadata": {},
   "outputs": [],
   "source": [
    "# implement the ngram model for n = 2\n",
    "\n",
    "word_dict_n = ngram_dict(2, train_data, test_data)\n",
    "\n",
    "train_data['Vectors_2gram'] = ngram_feature_vec(2, train_data, word_dict_n)\n",
    "\n",
    "test_data['Vectors_2gram'] = ngram_feature_vec(2, test_data, word_dict_n)"
   ]
  },
  {
   "cell_type": "code",
   "execution_count": 56,
   "metadata": {},
   "outputs": [],
   "source": [
    "# perform sentiment analysis with gram results\n",
    "lr_acc_2, gnb_acc_2, cfn_matrix_2_lr, cfn_matrix_2_gnb, lr_weight_2, gnb_weight_2 = Sentiment_Analysis(train_data['Vectors_2gram'], train_data['Label'], \\\n",
    "                                                 test_data['Vectors_2gram'], test_data['Label'])"
   ]
  },
  {
   "cell_type": "code",
   "execution_count": 57,
   "metadata": {},
   "outputs": [
    {
     "name": "stdout",
     "output_type": "stream",
     "text": [
      "Logistic Regression accuracy is:  0.6966666666666667\n",
      "Naive Bayes accuracy is:  0.6666666666666666\n"
     ]
    }
   ],
   "source": [
    "print(\"Logistic Regression accuracy is: \", lr_acc_2)\n",
    "print(\"Naive Bayes accuracy is: \", gnb_acc_2)"
   ]
  },
  {
   "cell_type": "code",
   "execution_count": 58,
   "metadata": {},
   "outputs": [
    {
     "name": "stdout",
     "output_type": "stream",
     "text": [
      "[[260  40]\n",
      " [ 52 248]]\n",
      "[[234  66]\n",
      " [ 59 241]]\n"
     ]
    },
    {
     "data": {
      "image/png": "[encoded data removed]",
      "text/plain": [
       "<Figure size 432x288 with 2 Axes>"
      ]
     },
     "metadata": {},
     "output_type": "display_data"
    },
    {
     "data": {
      "image/png": "[encoded data removed]",
      "text/plain": [
       "<Figure size 432x288 with 2 Axes>"
      ]
     },
     "metadata": {},
     "output_type": "display_data"
    }
   ],
   "source": [
    "# display logistic regression confusion matrix\n",
    "print(cfn_matrix_lr)\n",
    "\n",
    "# display the matrix in an intuitive way\n",
    "fig, ax = plt.subplots()\n",
    "plt.imshow(cfn_matrix_lr)\n",
    "plt.colorbar()\n",
    "plt.title('Logistic Regression Confusion Matrix ngram')\n",
    "classes = [0,1]\n",
    "ax.set(xticks=classes,yticks=classes,xticklabels=classes,yticklabels=classes,ylabel='True',xlabel='Predicted');\n",
    "plt.savefig('LR_ConfMatrix_n')\n",
    "\n",
    "# display naive bayes confusion matrix\n",
    "print(cfn_matrix_gnb)\n",
    "\n",
    "# display the matrix in an intuitive way\n",
    "fig, ax = plt.subplots()\n",
    "plt.imshow(cfn_matrix_gnb)\n",
    "plt.colorbar()\n",
    "plt.title('Naive Bayes Confusion Matrix ngram')\n",
    "classes = [0,1]\n",
    "ax.set(xticks=classes,yticks=classes,xticklabels=classes,yticklabels=classes,ylabel='True',xlabel='Predicted');\n",
    "plt.savefig('NB_ConfMatrix_n')"
   ]
  },
  {
   "cell_type": "code",
   "execution_count": 67,
   "metadata": {},
   "outputs": [
    {
     "name": "stdout",
     "output_type": "stream",
     "text": [
      "really good\n",
      "one best\n",
      "great place\n",
      "pretty good\n",
      "highly recommend\n",
      "long time\n",
      "phone work\n",
      "great product\n",
      "best phone\n"
     ]
    }
   ],
   "source": [
    "# inspect weights in lr\n",
    "words = list(word_dict_n.keys())\n",
    "for i, weight in enumerate(lr_weight_2[0]):\n",
    "    if weight > 0.9:\n",
    "        print (words[i])"
   ]
  },
  {
   "cell_type": "code",
   "execution_count": 71,
   "metadata": {},
   "outputs": [
    {
     "name": "stdout",
     "output_type": "stream",
     "text": [
      "go back\n",
      "ive ever\n",
      "would recommend\n",
      "waste time\n",
      "one bad\n",
      "see movie\n"
     ]
    }
   ],
   "source": [
    "# inspect weights in gnb\n",
    "for i, weight in enumerate(gnb_weight_2[0]):\n",
    "    if weight > 0.009:\n",
    "        print (words[i])"
   ]
  },
  {
   "cell_type": "markdown",
   "metadata": {},
   "source": [
    "#### PCA"
   ]
  },
  {
   "cell_type": "code",
   "execution_count": 72,
   "metadata": {},
   "outputs": [],
   "source": [
    "# convert training and testing data to lists\n",
    "train_matrix = np.matrix((train_data['Vectors']).tolist())\n",
    "test_matrix = np.matrix((test_data['Vectors']).tolist())"
   ]
  },
  {
   "cell_type": "code",
   "execution_count": 73,
   "metadata": {},
   "outputs": [],
   "source": [
    "# function to perform PCA on the data using SVD, reducing it to the number of dimensions specified by dim\n",
    "def my_pca(data, dim):\n",
    "    data -= np.mean(data, axis = 0)\n",
    "    \n",
    "    # perform SVD\n",
    "    U, S, VTrans = sp.linalg.svd(data)\n",
    "    \n",
    "    # find PCA projection space\n",
    "    components = VTrans[:dim, :].transpose()\n",
    "    \n",
    "    return components"
   ]
  },
  {
   "cell_type": "code",
   "execution_count": 74,
   "metadata": {},
   "outputs": [],
   "source": [
    "# perform PCA to 10, 50 and 100 dimensions\n",
    "pca_10 = my_pca(train_matrix, 10)\n",
    "\n",
    "pca_50 = my_pca(train_matrix, 50)\n",
    "\n",
    "pca_100 = my_pca(train_matrix, 100)"
   ]
  },
  {
   "cell_type": "code",
   "execution_count": 75,
   "metadata": {},
   "outputs": [],
   "source": [
    "# calculate the mean of both the training and testing data\n",
    "train_matrix -= np.mean(train_matrix, axis=0)\n",
    "test_matrix -= np.mean(test_matrix, axis=0)"
   ]
  },
  {
   "cell_type": "code",
   "execution_count": 76,
   "metadata": {},
   "outputs": [],
   "source": [
    "# reconstruct the data for 10. 50 and 100 dimensions\n",
    "train_10 = np.array(np.dot(train_matrix, pca_10))\n",
    "test_10 = np.array(np.dot(test_matrix, pca_10))\n",
    "\n",
    "train_50 = np.array(np.dot(train_matrix, pca_50))\n",
    "test_50 = np.array(np.dot(test_matrix, pca_50))\n",
    "\n",
    "train_100 = np.array(np.dot(train_matrix, pca_100))\n",
    "test_100 = np.array(np.dot(test_matrix, pca_100))"
   ]
  },
  {
   "cell_type": "code",
   "execution_count": 77,
   "metadata": {},
   "outputs": [],
   "source": [
    "# perform sentiment analysis on the data with reduced dimensions\n",
    "lr_acc_pca10, gnb_acc_pca10, cfn_matrix_pca10_lr, cfn_matrix_pca10_gnb, lr_w_10, gnb_w_10  = Sentiment_Analysis(train_10, train_data['Label'], test_10, test_data['Label'])\n",
    "\n",
    "lr_acc_pca50, gnb_acc_pca50, cfn_matrix_pca50_lr, cfn_matrix_pca50_gnb, lr_w_50, gnb_w_50 = Sentiment_Analysis(train_50, train_data['Label'], test_50, test_data['Label'])\n",
    "\n",
    "lr_acc_pca100, gnb_acc_pca100, cfn_matrix_pca100_lr, cfn_matrix_pca100_gnb, lr_w_100, gnb_w_100 = Sentiment_Analysis(train_100, train_data['Label'], test_100, test_data['Label'])"
   ]
  },
  {
   "cell_type": "code",
   "execution_count": 78,
   "metadata": {},
   "outputs": [
    {
     "name": "stdout",
     "output_type": "stream",
     "text": [
      "PCA 10 \n",
      " Logistic regression accuracy:  0.595 \n",
      " Naive Bayes accuracy:  0.6\n",
      "PCA 50 \n",
      " Logistic regression accuracy:  0.685 \n",
      " Naive Bayes accuracy:  0.6483333333333333\n",
      "PCA 100 \n",
      " Logistic regression accuracy:  0.705 \n",
      " Naive Bayes accuracy:  0.6383333333333333\n"
     ]
    }
   ],
   "source": [
    "# print results\n",
    "print(\"PCA 10 \\n\", \"Logistic regression accuracy: \", lr_acc_pca10, \"\\n\", \\\n",
    "      \"Naive Bayes accuracy: \", gnb_acc_pca10)\n",
    "print(\"PCA 50 \\n\", \"Logistic regression accuracy: \", lr_acc_pca50, \"\\n\", \\\n",
    "      \"Naive Bayes accuracy: \", gnb_acc_pca50)\n",
    "print(\"PCA 100 \\n\", \"Logistic regression accuracy: \", lr_acc_pca100, \"\\n\", \\\n",
    "      \"Naive Bayes accuracy: \", gnb_acc_pca100)"
   ]
  },
  {
   "cell_type": "code",
   "execution_count": 94,
   "metadata": {},
   "outputs": [
    {
     "name": "stdout",
     "output_type": "stream",
     "text": [
      "10\n",
      "\n",
      "place\n",
      "late\n",
      "may\n",
      "bank\n",
      "rick\n",
      "\n",
      "50\n",
      "\n",
      "place\n",
      "late\n",
      "bank\n",
      "beautiful\n",
      "cakeohhh\n",
      "hole\n",
      "\n",
      "100\n",
      "\n",
      "cape\n",
      "velvet\n",
      "street\n",
      "beer\n"
     ]
    }
   ],
   "source": [
    "# inspect weights in lr\n",
    "words = list(word_dictionary.keys())\n",
    "print('10\\n')\n",
    "for i, weight in enumerate(lr_w_10[0]):\n",
    "    if weight > 0.1:\n",
    "        print (words[i])\n",
    "print('\\n50\\n')\n",
    "for i, weight in enumerate(lr_w_50[0]):\n",
    "    if weight > 0.3:\n",
    "        print (words[i])\n",
    "print('\\n100\\n')\n",
    "for i, weight in enumerate(lr_w_100[0]):\n",
    "    if weight > 0.6:\n",
    "        print (words[i])"
   ]
  },
  {
   "cell_type": "code",
   "execution_count": 107,
   "metadata": {},
   "outputs": [
    {
     "name": "stdout",
     "output_type": "stream",
     "text": [
      "10\n",
      "\n",
      "love\n",
      "holiday\n",
      "\n",
      "50\n",
      "\n",
      "love\n",
      "cape\n",
      "\n",
      "100\n",
      "\n",
      "love\n",
      "cakeohhh\n"
     ]
    }
   ],
   "source": [
    "# inspect weights in gnb\n",
    "print('10\\n')\n",
    "for i, weight in enumerate(gnb_w_10[0]):\n",
    "    if weight > 0.0001:\n",
    "        print (words[i])\n",
    "print('\\n50\\n')\n",
    "for i, weight in enumerate(gnb_w_50[0]):\n",
    "    if weight > 0.1:\n",
    "        print (words[i])\n",
    "print('\\n100\\n')\n",
    "for i, weight in enumerate(gnb_w_100[0]):\n",
    "    if weight > 0.05:\n",
    "        print (words[i])"
   ]
  },
  {
   "cell_type": "markdown",
   "metadata": {},
   "source": [
    "##### Also want to try on n-gram"
   ]
  },
  {
   "cell_type": "code",
   "execution_count": 111,
   "metadata": {},
   "outputs": [],
   "source": [
    "# for this part we repeat the procedure above, this time using n-gram model\n",
    "train_matrix_n = np.matrix((train_data['Vectors_2gram']).tolist())\n",
    "test_matrix_n = np.matrix((test_data['Vectors_2gram']).tolist())"
   ]
  },
  {
   "cell_type": "code",
   "execution_count": 112,
   "metadata": {},
   "outputs": [],
   "source": [
    "def my_pca(data, dim):\n",
    "    data -= np.mean(data, axis = 0)\n",
    "    \n",
    "    # perform SVD\n",
    "    U, S, VTrans = sp.linalg.svd(data)\n",
    "    \n",
    "    # find PCA projection space\n",
    "    components = VTrans[:dim, :].transpose()\n",
    "    \n",
    "    return components"
   ]
  },
  {
   "cell_type": "code",
   "execution_count": 113,
   "metadata": {},
   "outputs": [],
   "source": [
    "pca_10 = my_pca(train_matrix_n, 10)\n",
    "\n",
    "pca_50 = my_pca(train_matrix_n, 50)\n",
    "\n",
    "pca_100 = my_pca(train_matrix_n, 100)"
   ]
  },
  {
   "cell_type": "code",
   "execution_count": 114,
   "metadata": {},
   "outputs": [],
   "source": [
    "train_matrix_n -= np.mean(train_matrix_n, axis=0)\n",
    "test_matrix_n -= np.mean(test_matrix_n, axis=0)"
   ]
  },
  {
   "cell_type": "code",
   "execution_count": 115,
   "metadata": {},
   "outputs": [],
   "source": [
    "train_10 = np.array(np.dot(train_matrix_n, pca_10))\n",
    "test_10 = np.array(np.dot(test_matrix_n, pca_10))\n",
    "\n",
    "train_50 = np.array(np.dot(train_matrix_n, pca_50))\n",
    "test_50 = np.array(np.dot(test_matrix_n, pca_50))\n",
    "\n",
    "train_100 = np.array(np.dot(train_matrix_n, pca_100))\n",
    "test_100 = np.array(np.dot(test_matrix_n, pca_100))"
   ]
  },
  {
   "cell_type": "code",
   "execution_count": 116,
   "metadata": {},
   "outputs": [],
   "source": [
    "lr_acc_pca10, gnb_acc_pca10, cfn_matrix_pca10_lr, cfn_matrix_pca10_gnb,lr_w_10,gnb_w_10  = Sentiment_Analysis(train_10, train_data['Label'], test_10, test_data['Label'])\n",
    "\n",
    "lr_acc_pca50, gnb_acc_pca50, cfn_matrix_pca50_lr, cfn_matrix_pca50_gnb,lr_w_50,gnb_w_50  = Sentiment_Analysis(train_50, train_data['Label'], test_50, test_data['Label'])\n",
    "\n",
    "lr_acc_pca100, gnb_acc_pca100, cfn_matrix_pca100_lr, cfn_matrix_pca100_gnb, lr_w_100,gnb_w_100  = Sentiment_Analysis(train_100, train_data['Label'], test_100, test_data['Label'])"
   ]
  },
  {
   "cell_type": "code",
   "execution_count": 117,
   "metadata": {},
   "outputs": [
    {
     "name": "stdout",
     "output_type": "stream",
     "text": [
      "PCA 10 \n",
      " Logistic regression accuracy:  0.505 \n",
      " Naive Bayes accuracy:  0.49833333333333335\n",
      "PCA 50 \n",
      " Logistic regression accuracy:  0.51 \n",
      " Naive Bayes accuracy:  0.5383333333333333\n",
      "PCA 100 \n",
      " Logistic regression accuracy:  0.5816666666666667 \n",
      " Naive Bayes accuracy:  0.5716666666666667\n"
     ]
    }
   ],
   "source": [
    "# print results\n",
    "print(\"PCA 10 \\n\", \"Logistic regression accuracy: \", lr_acc_pca10, \"\\n\", \\\n",
    "      \"Naive Bayes accuracy: \", gnb_acc_pca10)\n",
    "print(\"PCA 50 \\n\", \"Logistic regression accuracy: \", lr_acc_pca50, \"\\n\", \\\n",
    "      \"Naive Bayes accuracy: \", gnb_acc_pca50)\n",
    "print(\"PCA 100 \\n\", \"Logistic regression accuracy: \", lr_acc_pca100, \"\\n\", \\\n",
    "      \"Naive Bayes accuracy: \", gnb_acc_pca100)"
   ]
  },
  {
   "cell_type": "code",
   "execution_count": 141,
   "metadata": {},
   "outputs": [
    {
     "name": "stdout",
     "output_type": "stream",
     "text": [
      "10\n",
      "\n",
      "bank holiday\n",
      "rick steve\n",
      "steve recommendation\n",
      "selection menu\n",
      "\n",
      "50\n",
      "\n",
      "selection menu\n",
      "ravoli chickenwith\n",
      "le interior\n",
      "beer 23\n",
      "server attentive\n",
      "\n",
      "100\n",
      "\n",
      "selection menu\n",
      "ravoli chickenwith\n",
      "beer 23\n",
      "server attentive\n",
      "good beef\n",
      "pita hummus\n",
      "right sauce\n",
      "service huge\n"
     ]
    }
   ],
   "source": [
    "# inspect weights in lr\n",
    "words = list(word_dict_n.keys())\n",
    "print('10\\n')\n",
    "for i, weight in enumerate(lr_w_10[0]):\n",
    "    if weight > 0.5:\n",
    "        print (words[i])\n",
    "print('\\n50\\n')\n",
    "for i, weight in enumerate(lr_w_50[0]):\n",
    "    if weight > 1:\n",
    "        print (words[i])\n",
    "print('\\n100\\n')\n",
    "for i, weight in enumerate(lr_w_100[0]):\n",
    "    if weight > 1:\n",
    "        print (words[i])"
   ]
  },
  {
   "cell_type": "code",
   "execution_count": 142,
   "metadata": {},
   "outputs": [
    {
     "name": "stdout",
     "output_type": "stream",
     "text": [
      "10\n",
      "\n",
      "stop late\n",
      "may bank\n",
      "\n",
      "50\n",
      "\n",
      "stop late\n",
      "cakeohhh stuff\n",
      "\n",
      "100\n",
      "\n",
      "stop late\n",
      "le interior\n",
      "hole wall\n"
     ]
    }
   ],
   "source": [
    "# inspect weights in gnb\n",
    "print('10\\n')\n",
    "for i, weight in enumerate(gnb_w_10[0]):\n",
    "    if weight > 0.0001:\n",
    "        print (words[i])\n",
    "print('\\n50\\n')\n",
    "for i, weight in enumerate(gnb_w_50[0]):\n",
    "    if weight > 0.004:\n",
    "        print (words[i])\n",
    "print('\\n100\\n')\n",
    "for i, weight in enumerate(gnb_w_100[0]):\n",
    "    if weight > 0.005:\n",
    "        print (words[i])"
   ]
  },
  {
   "cell_type": "markdown",
   "metadata": {},
   "source": [
    "#### (g) Algorithm comparison and analysis"
   ]
  },
  {
   "cell_type": "markdown",
   "metadata": {},
   "source": [
    "See report"
   ]
  },
  {
   "cell_type": "markdown",
   "metadata": {},
   "source": [
    "# Clustering for Text Analysis"
   ]
  },
  {
   "cell_type": "code",
   "execution_count": 9,
   "metadata": {},
   "outputs": [],
   "source": [
    "# import libraries\n",
    "import matplotlib.pyplot as plt\n",
    "from sklearn.metrics import silhouette_score"
   ]
  },
  {
   "cell_type": "markdown",
   "metadata": {},
   "source": [
    "#### (A) Document-wise Clustering"
   ]
  },
  {
   "cell_type": "code",
   "execution_count": 3,
   "metadata": {},
   "outputs": [],
   "source": [
    "# load documents, titles and terms\n",
    "documents = np.load('science2k-doc-word.npy')\n",
    "titles_list = [] # list to store titles\n",
    "with open('science2k-titles.txt') as f: # read titles file and store them\n",
    "    for i,line in enumerate(f):\n",
    "        titles_list.append(line.strip())\n",
    "\n",
    "titles = np.asarray(titles_list) # convert list to array\n",
    "\n",
    "terms_list = [] # list to store terms\n",
    "with open('science2k-vocab.txt') as f: # read terms file and store them\n",
    "    for i,line in enumerate(f):\n",
    "        terms_list.append(line.strip())\n",
    "\n",
    "terms = np.asarray(terms_list) # convert list to array"
   ]
  },
  {
   "cell_type": "code",
   "execution_count": 4,
   "metadata": {},
   "outputs": [
    {
     "name": "stdout",
     "output_type": "stream",
     "text": [
      "(1373, 5476)\n",
      "(1373,)\n",
      "(5476,)\n"
     ]
    }
   ],
   "source": [
    "# check correct dimensions\n",
    "print(documents.shape)\n",
    "print(titles.shape)\n",
    "print(terms.shape)"
   ]
  },
  {
   "cell_type": "code",
   "execution_count": 5,
   "metadata": {},
   "outputs": [],
   "source": [
    "sil = [] # to store silhouette values\n",
    "ks = [] # to store k values\n",
    "costs = []\n",
    "\n",
    "for k in range(2, 21): # loop through each k value and perform k-means, analyzing each case to pick the best one\n",
    "    kmeans = KMeans(n_clusters = k, max_iter = 10000).fit(documents)\n",
    "    labels = kmeans.labels_\n",
    "    \n",
    "    # determine whether the documents are labeled correctly\n",
    "    # comparing inertia and silhouette score (metrics that will help us find which k to use)\n",
    "    costs.append(kmeans.inertia_)\n",
    "    sil.append(silhouette_score(documents, labels, metric = 'euclidean'))\n",
    "\n",
    "    ks.append(k)"
   ]
  },
  {
   "cell_type": "code",
   "execution_count": 6,
   "metadata": {},
   "outputs": [
    {
     "data": {
      "image/png": "[encoded data removed]",
      "text/plain": [
       "<Figure size 432x288 with 1 Axes>"
      ]
     },
     "metadata": {
      "needs_background": "light"
     },
     "output_type": "display_data"
    }
   ],
   "source": [
    "plt.plot(ks, sil) # plot results\n",
    "plt.xlabel('K')\n",
    "plt.ylabel('Silhouette')\n",
    "plt.savefig('Sil_1.png')"
   ]
  },
  {
   "cell_type": "markdown",
   "metadata": {},
   "source": [
    "Silhouette score is based on mean intra-cluster distance and the mean nearest-cluster distance for each sample. A higher silhouette score means that the model is performing better. This is a good metric because it takes into account how simlar the points are to their cluster center and how different the points are to other clusters and gives us a value that is based on this. "
   ]
  },
  {
   "cell_type": "code",
   "execution_count": 7,
   "metadata": {},
   "outputs": [
    {
     "data": {
      "image/png": "[encoded data removed]",
      "text/plain": [
       "<Figure size 432x288 with 1 Axes>"
      ]
     },
     "metadata": {
      "needs_background": "light"
     },
     "output_type": "display_data"
    }
   ],
   "source": [
    "# plot inertia results\n",
    "plt.plot(ks, costs)\n",
    "plt.xlabel('K')\n",
    "plt.ylabel('Inertia')\n",
    "plt.savefig('costs_1.png')"
   ]
  },
  {
   "cell_type": "markdown",
   "metadata": {},
   "source": [
    "The inertia is sum of squared distances of samples to their closest cluster center. This is decreasing as we increase the value of k. The best value of k is when you have an \"elbow\" in this curve, because that is indicating that you have gotten a distance that is close enough to the cluster center. However, this curve is very jagged, is not really approaching zero, and it is difficult to see if there is an elbow, so we decided to use silhouette score."
   ]
  },
  {
   "cell_type": "code",
   "execution_count": 9,
   "metadata": {},
   "outputs": [],
   "source": [
    "best_k = ks[np.argmax(sil)] # choose the best k using silhouette score"
   ]
  },
  {
   "cell_type": "code",
   "execution_count": 10,
   "metadata": {},
   "outputs": [
    {
     "name": "stdout",
     "output_type": "stream",
     "text": [
      "2\n",
      "(1373, 5476)\n"
     ]
    }
   ],
   "source": [
    "print(best_k) # print the best k\n",
    "print(documents.shape) # check correct shapes"
   ]
  },
  {
   "cell_type": "code",
   "execution_count": 11,
   "metadata": {},
   "outputs": [],
   "source": [
    "kmeans = KMeans(n_clusters = best_k, max_iter = 10000).fit(documents) # perform k-means with the best k\n",
    "labels = kmeans.labels_ # store labels\n",
    "cluster_centers = kmeans.cluster_centers_ # store cluster centers\n",
    "documents_avg = np.mean(documents,0) # average feature vector"
   ]
  },
  {
   "cell_type": "markdown",
   "metadata": {},
   "source": [
    "##### report the top ten words in each cluster with respect to distance from average over all points"
   ]
  },
  {
   "cell_type": "code",
   "execution_count": 12,
   "metadata": {},
   "outputs": [],
   "source": [
    "word_indices = []\n",
    "for i in range(best_k): # loop through each cluster\n",
    "    max_queue = np.zeros((10, 2))\n",
    "    dist_ccenter_avg = cluster_centers[i] - documents_avg\n",
    "    for indx, word in enumerate(dist_ccenter_avg):\n",
    "        if indx < 10:\n",
    "            max_queue[indx] = (word,indx)\n",
    "        else:\n",
    "            if indx == 10:\n",
    "                max_queue = max_queue[max_queue[:,0].argsort()]\n",
    "            if word > max_queue[0][0]:\n",
    "                max_queue[0] = (word,indx)\n",
    "                max_queue = max_queue[max_queue[:,0].argsort()]\n",
    "    word_indices.append(max_queue[:,1].astype('int'))"
   ]
  },
  {
   "cell_type": "code",
   "execution_count": 13,
   "metadata": {},
   "outputs": [],
   "source": [
    "best_words = [[terms[indx] for indx in vec] for vec in word_indices]        "
   ]
  },
  {
   "cell_type": "code",
   "execution_count": 14,
   "metadata": {},
   "outputs": [
    {
     "name": "stdout",
     "output_type": "stream",
     "text": [
      "The top ten words in the first cluster are: \n",
      " ['expressed', 'specific', 'binding', 'fig', 'gene', 'proteins', 'expression', 'cells', 'cell', 'protein'] \n",
      " The top ten words in the second cluster are: \n",
      " ['states', 'focus', 'million', 'says', 'researchers', 'scientists', 'world', 'field', 'year', 'years']\n"
     ]
    }
   ],
   "source": [
    "# print the top ten words in each cluster\n",
    "print('The top ten words in the first cluster are: \\n', best_words[0], \\\n",
    "     '\\n', 'The top ten words in the second cluster are: \\n', best_words[1])"
   ]
  },
  {
   "cell_type": "markdown",
   "metadata": {},
   "source": [
    "##### report the top ten documents for each cluster"
   ]
  },
  {
   "cell_type": "code",
   "execution_count": 15,
   "metadata": {},
   "outputs": [],
   "source": [
    "doc_indices = []\n",
    "for i in range(best_k): # loop through each cluster\n",
    "    max_queue = np.zeros((10, 2))\n",
    "    j = 0\n",
    "    for k, label in enumerate(labels): # check points belonging to each label\n",
    "        if label == i:\n",
    "            dist_doc = np.linalg.norm(documents[k] - cluster_centers[i])\n",
    "            if j < 10:\n",
    "                max_queue[j] = (dist_doc, j)\n",
    "            else:\n",
    "                if j == 10:\n",
    "                    max_queue = max_queue[max_queue[:,0].argsort()]\n",
    "                if dist_doc > max_queue[0][0]:\n",
    "                    max_queue[0] = dist_doc\n",
    "                    max_queue[0] = (dist_doc, j)\n",
    "                    max_queue = max_queue[max_queue[:,0].argsort()]\n",
    "            j+=1\n",
    "    doc_indices.append(max_queue[:,1].astype('int'))"
   ]
  },
  {
   "cell_type": "code",
   "execution_count": 16,
   "metadata": {},
   "outputs": [],
   "source": [
    "best_docs = [[titles[indx] for indx in vec] for vec in doc_indices]        "
   ]
  },
  {
   "cell_type": "code",
   "execution_count": 18,
   "metadata": {},
   "outputs": [
    {
     "name": "stdout",
     "output_type": "stream",
     "text": [
      "The top ten documents in the first cluster are:\n",
      "\"A Time for Restraint\"\n",
      "\"Sex Determination in Malaria Parasites\"\n",
      "\"A Potassium Channel Protein Encoded by Chlorella Virus PBCV-1\"\n",
      "\"Cool Glacial Temperatures and Changes in Moisture Source Recorded in Oman Groundwaters\"\n",
      "\"Population Dynamical Consequences of Climate Change for a Small Temperate Songbird\"\n",
      "\"How Climate Change Alters Rhythms of the Wild\"\n",
      "\"Green, Catalytic Oxidation of Alcohols in Water\"\n",
      "\"Giant Birefringent Optics in Multilayer Polymer Mirrors\"\n",
      "\"Oxygen Isotopes and Emerald Trade Routes since Antiquity\"\n",
      "\"Three-Dimensional Direct Imaging of Structural Relaxation near the Colloidal Glass Transition\"\n",
      "\n",
      "\n",
      "The top ten documents in the second cluster are:\n",
      "\"Language Discrimination by Human Newborns and by Cotton-Top Tamarin Monkeys\"\n",
      "\"Thermal, Catalytic, Regiospecific Functionalization of Alkanes\"\n",
      "\"Crossed Nanotube Junctions\"\n",
      "\"Lunar Impact History from <latex>$^{40}Ar/^{39}Ar$</latex> Dating of Glass Spherules\"\n",
      "\"Seeing a World in Grains of Sand\"\n",
      "\"Predictions of Biodiversity Response to Genetically Modified Herbicide-Tolerant Crops\"\n",
      "\"Control of Thickness and Orientation of Solution-Grown Silicon Nanowires\"\n",
      "\"Cholera Dynamics and El Nino-Southern Oscillation\"\n",
      "\"DNA Damage-Induced Activation of p53 by the Checkpoint Kinase Chk2\"\n",
      "\"Saving Venice\"\n"
     ]
    }
   ],
   "source": [
    "# print the top ten documents in each cluster\n",
    "print('The top ten documents in the first cluster are:')\n",
    "for doc in best_docs[0]:\n",
    "    print (doc)\n",
    "\n",
    "print('\\n')\n",
    "\n",
    "print('The top ten documents in the second cluster are:')\n",
    "for doc in best_docs[1]:\n",
    "    print (doc)"
   ]
  },
  {
   "cell_type": "markdown",
   "metadata": {},
   "source": [
    "#### (B) Term-wise Clustering"
   ]
  },
  {
   "cell_type": "code",
   "execution_count": 8,
   "metadata": {},
   "outputs": [
    {
     "data": {
      "text/plain": [
       "(5476, 1373)"
      ]
     },
     "execution_count": 8,
     "metadata": {},
     "output_type": "execute_result"
    }
   ],
   "source": [
    "# for this part we repeat the process in A) using terms insted of documents\n",
    "words = np.load('science2k-word-doc.npy')\n",
    "np.shape(words)"
   ]
  },
  {
   "cell_type": "code",
   "execution_count": 9,
   "metadata": {},
   "outputs": [],
   "source": [
    "sil = [] # to store silhouette values\n",
    "ks = [] # to store k values\n",
    "\n",
    "for k in range(2, 21): # loop through each k value and perform k-means, analyzing each case to pick the best one\n",
    "    kmeans = KMeans(n_clusters = k, max_iter = 10000).fit(words)\n",
    "    labels = kmeans.labels_\n",
    "    \n",
    "    # determine whether the documents are labeled correctly\n",
    "    sil.append(silhouette_score(words, labels, metric = 'euclidean'))\n",
    "\n",
    "    ks.append(k)"
   ]
  },
  {
   "cell_type": "code",
   "execution_count": 10,
   "metadata": {},
   "outputs": [
    {
     "data": {
      "image/png": "[encoded data removed]",
      "text/plain": [
       "<Figure size 432x288 with 1 Axes>"
      ]
     },
     "metadata": {
      "needs_background": "light"
     },
     "output_type": "display_data"
    }
   ],
   "source": [
    "plt.plot(ks, sil) # plot results\n",
    "plt.xlabel('K')\n",
    "plt.ylabel('Silhouette')\n",
    "plt.savefig('Sil_2.png')"
   ]
  },
  {
   "cell_type": "code",
   "execution_count": 11,
   "metadata": {},
   "outputs": [],
   "source": [
    "best_k = ks[np.argmax(sil)] # choose the best k using silhouette score"
   ]
  },
  {
   "cell_type": "code",
   "execution_count": 12,
   "metadata": {},
   "outputs": [
    {
     "name": "stdout",
     "output_type": "stream",
     "text": [
      "2\n"
     ]
    }
   ],
   "source": [
    "print(best_k) # print the best k"
   ]
  },
  {
   "cell_type": "code",
   "execution_count": 13,
   "metadata": {},
   "outputs": [],
   "source": [
    "kmeans = KMeans(n_clusters = best_k, max_iter = 10000).fit(words) # perform k-means with the best k\n",
    "labels = kmeans.labels_ # store labels\n",
    "cluster_centers = kmeans.cluster_centers_ # store cluster centers\n",
    "words_avg = np.mean(words,0) # average feature vector"
   ]
  },
  {
   "cell_type": "markdown",
   "metadata": {},
   "source": [
    "##### report the top ten words in each cluster with respect to distance from average over all points"
   ]
  },
  {
   "cell_type": "code",
   "execution_count": 24,
   "metadata": {},
   "outputs": [],
   "source": [
    "doc_indices = []\n",
    "for i in range(best_k): # loop through each cluster\n",
    "    max_queue = np.zeros((10, 2))\n",
    "    dist_ccenter_avg = cluster_centers[i] - words_avg\n",
    "    for indx, doc in enumerate(dist_ccenter_avg):\n",
    "        if indx < 10:\n",
    "            max_queue[indx] = (doc,indx)\n",
    "        else:\n",
    "            if indx == 10:\n",
    "                max_queue = max_queue[max_queue[:,0].argsort()]\n",
    "            if doc > max_queue[0][0]:\n",
    "                max_queue[0] = (doc,indx)\n",
    "                max_queue = max_queue[max_queue[:,0].argsort()]\n",
    "    doc_indices.append(max_queue[:,1].astype('int'))"
   ]
  },
  {
   "cell_type": "code",
   "execution_count": 25,
   "metadata": {},
   "outputs": [],
   "source": [
    "best_docs = [[titles[indx] for indx in vec] for vec in doc_indices]        "
   ]
  },
  {
   "cell_type": "code",
   "execution_count": 26,
   "metadata": {},
   "outputs": [
    {
     "name": "stdout",
     "output_type": "stream",
     "text": [
      "The top ten documents in the first cluster are:\n",
      "\"Role of the Mouse ank Gene in Control of Tissue Calcification and Arthritis\"\n",
      "\"Function of PI3Kg in Thymocyte Development, T Cell Activation, and Neutrophil Migration\"\n",
      "\"Signaling and Circuitry of Multiple MAPK Pathways Revealed by a Matrix of Global Gene Expression Profiles\"\n",
      "\"Kinesin Superfamily Motor Protein KIF17 and mLin-10 in NMDA Receptor-Containing Vesicle Transport\"\n",
      "\"Central Role for G Protein-Coupled Phosphoinositide 3-Kinase g in Inflammation\"\n",
      "\"The Genome Sequence of Drosophila melanogaster\"\n",
      "\"An Oral Vaccine against NMDAR1 with Efficacy in Experimental Stroke and Epilepsy\"\n",
      "\"Regulated Cleavage of a Contact-Mediated Axon Repellent\"\n",
      "\"Noxa, a BH3-Only Member of the Bcl-2 Family and Candidate Mediator of p53-Induced Apoptosis\"\n",
      "\"Positional Syntenic Cloning and Functional Characterization of the Mammalian Circadian Mutation tau\"\n",
      "\n",
      "\n",
      "The top ten documents in the second cluster are:\n",
      "\"Bastions of Tradition Adapt to Alternative Medicine\"\n",
      "\"NIH, under Pressure, Boosts Minority Health Research\"\n",
      "\"Soaking up Carbon in Forests and Fields\"\n",
      "\"Science Survives in Breakthrough States\"\n",
      "\"Controversy Flares up over NASA Solar Project\"\n",
      "\"Flushing out Nasty Viruses in the Balkans\"\n",
      "\"National Academy of Sciences Elects New Members\"\n",
      "\"Soft Money's Hard Realities\"\n",
      "\"A New Breed of Scientist-Advocate Emerges\"\n",
      "\"Ground Zero: AIDS Research in Africa\"\n"
     ]
    }
   ],
   "source": [
    "# print results for both clusters\n",
    "print('The top ten documents in the first cluster are:')\n",
    "for doc in best_docs[0]:\n",
    "    print (doc)\n",
    "\n",
    "print('\\n')\n",
    "\n",
    "print('The top ten documents in the second cluster are:')\n",
    "for doc in best_docs[1]:\n",
    "    print (doc)"
   ]
  },
  {
   "cell_type": "markdown",
   "metadata": {},
   "source": [
    "##### report the top ten words for each cluster"
   ]
  },
  {
   "cell_type": "code",
   "execution_count": 30,
   "metadata": {},
   "outputs": [],
   "source": [
    "word_indices = []\n",
    "for i in range(best_k): # loop through every cluster\n",
    "    max_queue = np.zeros((10, 2))\n",
    "    j = 0\n",
    "    for k, label in enumerate(labels): # loop through every label\n",
    "        if label == i:\n",
    "            dist_word = np.linalg.norm(words[k] - cluster_centers[i])\n",
    "            if j < 10:\n",
    "                max_queue[j] = (dist_word, j)\n",
    "            else:\n",
    "                if j == 10:\n",
    "                    max_queue = max_queue[max_queue[:,0].argsort()]\n",
    "                if dist_word > max_queue[0][0]:\n",
    "                    max_queue[0] = dist_word\n",
    "                    max_queue[0] = (dist_word, j)\n",
    "                    max_queue = max_queue[max_queue[:,0].argsort()]\n",
    "            j+=1\n",
    "    word_indices.append(max_queue[:,1].astype('int'))"
   ]
  },
  {
   "cell_type": "code",
   "execution_count": 31,
   "metadata": {},
   "outputs": [],
   "source": [
    "best_words = [[terms[indx] for indx in vec] for vec in word_indices]        "
   ]
  },
  {
   "cell_type": "code",
   "execution_count": 32,
   "metadata": {},
   "outputs": [
    {
     "name": "stdout",
     "output_type": "stream",
     "text": [
      "The top ten words in the first cluster are:\n",
      "different\n",
      "shown\n",
      "org\n",
      "three\n",
      "mice\n",
      "control\n",
      "two\n",
      "www\n",
      "cells\n",
      "fig\n",
      "\n",
      "\n",
      "The top ten words in the second cluster are:\n",
      "model\n",
      "expression\n",
      "observed\n",
      "first\n",
      "data\n",
      "sciencemag\n",
      "science\n",
      "start\n",
      "www\n",
      "protein\n"
     ]
    }
   ],
   "source": [
    "# print results\n",
    "print('The top ten words in the first cluster are:')\n",
    "for word in best_words[0]:\n",
    "    print (word)\n",
    "\n",
    "print('\\n')\n",
    "\n",
    "print('The top ten words in the second cluster are:')\n",
    "for word in best_words[1]:\n",
    "    print (word)"
   ]
  },
  {
   "cell_type": "markdown",
   "metadata": {},
   "source": [
    "# EM Algorithm and Implementation"
   ]
  },
  {
   "cell_type": "code",
   "execution_count": 2,
   "metadata": {},
   "outputs": [],
   "source": [
    "# import libraries\n",
    "from sklearn.mixture import GaussianMixture"
   ]
  },
  {
   "cell_type": "markdown",
   "metadata": {},
   "source": [
    "#### (b) Plot Dataset"
   ]
  },
  {
   "cell_type": "code",
   "execution_count": 3,
   "metadata": {},
   "outputs": [],
   "source": [
    "# read dataset, removing unnecessary information\n",
    "with open('faithful.dat.txt') as f:\n",
    "    data = False\n",
    "    for i,line in enumerate(f):\n",
    "        if data == False:\n",
    "            if line == '    eruptions waiting\\n':\n",
    "                data = True\n",
    "                df = pd.DataFrame(columns=['eruptions', 'waiting'])\n",
    "        else:\n",
    "            line = line.split()\n",
    "            df.loc[line[0]] = line[1:]"
   ]
  },
  {
   "cell_type": "code",
   "execution_count": 4,
   "metadata": {},
   "outputs": [
    {
     "data": {
      "image/png": "[encoded data removed]",
      "text/plain": [
       "<Figure size 1440x720 with 1 Axes>"
      ]
     },
     "metadata": {},
     "output_type": "display_data"
    }
   ],
   "source": [
    "# plot dataframe\n",
    "plt.figure(figsize=(20,10))\n",
    "plt.scatter(df['eruptions'], df['waiting'])\n",
    "plt.xlabel('Eruptions')\n",
    "plt.ylabel('Waiting');\n",
    "plt.savefig('Eruptions_Waiting.png')"
   ]
  },
  {
   "cell_type": "markdown",
   "metadata": {},
   "source": [
    "#### (c) GMM"
   ]
  },
  {
   "cell_type": "markdown",
   "metadata": {},
   "source": [
    "My termination criterion is when the the means stop changing. This occurs when the previous mean and the current mean is approximately equal. I decided to change the max number of iterations until it acheives this termination criterion to determine what is the best maximum number of iterations."
   ]
  },
  {
   "cell_type": "code",
   "execution_count": 5,
   "metadata": {},
   "outputs": [
    {
     "name": "stderr",
     "output_type": "stream",
     "text": [
      "C:\\Users\\simir\\Anaconda3\\lib\\site-packages\\sklearn\\mixture\\base.py:237: ConvergenceWarning: Initialization 1 did not converge. Try different init parameters, or increase max_iter, tol or check for degenerate data.\n",
      "  % (init + 1), ConvergenceWarning)\n"
     ]
    }
   ],
   "source": [
    "iterations = [] # list to store the number of iterations\n",
    "means1x = [] # lists to store means\n",
    "means2x =[]\n",
    "i = 1\n",
    "# implement bimodal GMM\n",
    "gmm = GaussianMixture(n_components=2, warm_start = True, covariance_type = 'spherical', \\\n",
    "                            max_iter = 1, init_params = 'random')\n",
    "\n",
    "# loop to check the means at every iteration \n",
    "while True: \n",
    "    gmm.fit(df)\n",
    "    iterations.append(i)\n",
    "    means = gmm.means_\n",
    "\n",
    "    x1 = means[0][0]\n",
    "    x2 = means[1][0]\n",
    "    means1x.append(x1)\n",
    "    means2x.append(x2)\n",
    "    if gmm.converged_:\n",
    "        break\n",
    "    i+=1"
   ]
  },
  {
   "cell_type": "code",
   "execution_count": 53,
   "metadata": {},
   "outputs": [
    {
     "data": {
      "image/png": "[encoded data removed]",
      "text/plain": [
       "<Figure size 720x720 with 1 Axes>"
      ]
     },
     "metadata": {},
     "output_type": "display_data"
    }
   ],
   "source": [
    "# plot GMM means for each iteration until convergence\n",
    "plt.figure(figsize=(10, 10))\n",
    "plt.scatter(iterations, means1x)\n",
    "plt.scatter(iterations, means2x)\n",
    "plt.xlabel('Number of Iterations')\n",
    "plt.ylabel('GMM Means');\n",
    "plt.savefig('GMM_Means_0.png')"
   ]
  },
  {
   "cell_type": "code",
   "execution_count": 6,
   "metadata": {},
   "outputs": [],
   "source": [
    "# run GMM 50 times and plot the number of iterations needed until convergence\n",
    "num_iters = []\n",
    "for i in range(50):\n",
    "    gmm = GaussianMixture(n_components=2, covariance_type = 'spherical', \\\n",
    "                            init_params = 'random')\n",
    "    gmm.fit(df)\n",
    "    num_iters.append(gmm.n_iter_)"
   ]
  },
  {
   "cell_type": "code",
   "execution_count": 7,
   "metadata": {},
   "outputs": [
    {
     "data": {
      "image/png": "[encoded data removed]",
      "text/plain": [
       "<Figure size 432x288 with 1 Axes>"
      ]
     },
     "metadata": {},
     "output_type": "display_data"
    }
   ],
   "source": [
    "# plot histogram results\n",
    "plt.hist(num_iters, bins = 25); # plot histogram\n",
    "plt.xlabel('Number of Iterations')\n",
    "plt.ylabel('Number of Models')\n",
    "plt.savefig('Iteration_Hist_1.png')"
   ]
  },
  {
   "cell_type": "markdown",
   "metadata": {},
   "source": [
    "#### (d) GMM with KMeans"
   ]
  },
  {
   "cell_type": "markdown",
   "metadata": {},
   "source": [
    "##### Doing it the way the problem asked us to do it."
   ]
  },
  {
   "cell_type": "code",
   "execution_count": 8,
   "metadata": {},
   "outputs": [],
   "source": [
    "def kmeans_params(data):\n",
    "    kmeans_gmm = KMeans(n_clusters = 2, max_iter = 10000).fit(data)\n",
    "    labels_gmm = kmeans_gmm.labels_\n",
    "    \n",
    "    # find means\n",
    "    x = [0, 0]\n",
    "    y = [0, 0]\n",
    "    numx = 0\n",
    "    numy = 0\n",
    "    for i, label in enumerate(labels_gmm):\n",
    "        if label == 0:\n",
    "            x += np.array(df.iloc[i]).astype(float)\n",
    "            numx += 1\n",
    "        else:\n",
    "            y += np.array(df.iloc[i]).astype(float)\n",
    "            numy += 1\n",
    "    means_gmm = [x/numx, y/numy]\n",
    "    \n",
    "    # find covariance\n",
    "    cx = [0, 0]\n",
    "    cy = [0, 0]\n",
    "    numx = 0\n",
    "    numy = 0\n",
    "    for i, label in enumerate(labels_gmm):\n",
    "        if label == 0:\n",
    "            diff = np.array(df.iloc[i]).astype(float) - means_gmm[0]\n",
    "            cx += np.dot(diff, diff)\n",
    "            numx += 1\n",
    "        else:\n",
    "            diff = np.array(df.iloc[i]).astype(float) - means_gmm[1]\n",
    "            cy += np.dot(diff, diff)\n",
    "            numy += 1\n",
    "    cov_gmm = [cx/numx, cy/numy]\n",
    "    \n",
    "    precision_gmm = np.array([1/val[0] for val in cov_gmm])\n",
    "    \n",
    "    # find weights (i.e. fraction of data samples in cluster)\n",
    "    weights_gmm = np.array([0, 0])\n",
    "    for label in labels_gmm:\n",
    "        weights_gmm[label] += 1\n",
    "\n",
    "    weights_gmm = weights_gmm/len(labels_gmm)\n",
    "    \n",
    "    return means_gmm, precision_gmm, weights_gmm"
   ]
  },
  {
   "cell_type": "code",
   "execution_count": 9,
   "metadata": {},
   "outputs": [],
   "source": [
    "mean, precision, weight = kmeans_params(df)"
   ]
  },
  {
   "cell_type": "code",
   "execution_count": 10,
   "metadata": {},
   "outputs": [
    {
     "name": "stderr",
     "output_type": "stream",
     "text": [
      "C:\\Users\\simir\\Anaconda3\\lib\\site-packages\\sklearn\\mixture\\base.py:237: ConvergenceWarning: Initialization 1 did not converge. Try different init parameters, or increase max_iter, tol or check for degenerate data.\n",
      "  % (init + 1), ConvergenceWarning)\n"
     ]
    }
   ],
   "source": [
    "# perform GMM until convergence\n",
    "iterations = []\n",
    "means1x = []\n",
    "means2x =[]\n",
    "i = 1\n",
    "gmm = GaussianMixture(n_components=2, warm_start = True, covariance_type = 'spherical', max_iter = 1, \\\n",
    "                      means_init = means, precisions_init = precision, \\\n",
    "                      weights_init = weight)\n",
    "while True:\n",
    "    gmm.fit(df)\n",
    "    iterations.append(i)\n",
    "    means = gmm.means_\n",
    "    \n",
    "    x1 = means[0][0]\n",
    "    x2 = means[1][0]\n",
    "    means1x.append(x1)\n",
    "    means2x.append(x2)\n",
    "    if gmm.converged_:\n",
    "        break\n",
    "    i += 1"
   ]
  },
  {
   "cell_type": "code",
   "execution_count": 72,
   "metadata": {},
   "outputs": [
    {
     "data": {
      "image/png": "[encoded data removed]",
      "text/plain": [
       "<Figure size 720x720 with 1 Axes>"
      ]
     },
     "metadata": {},
     "output_type": "display_data"
    }
   ],
   "source": [
    "# plot results\n",
    "plt.figure(figsize=(10, 10))\n",
    "plt.scatter(iterations, means1x)\n",
    "plt.scatter(iterations, means2x)\n",
    "plt.xlabel('Number of Iterations')\n",
    "plt.ylabel('GMM Means');\n",
    "plt.savefig('GMM_Means.png')"
   ]
  },
  {
   "cell_type": "code",
   "execution_count": null,
   "metadata": {},
   "outputs": [],
   "source": [
    "# run GMM 50 times and plot the number of iterations needed until convergence\n",
    "num_iters = []\n",
    "for i in range(50):\n",
    "    meang, precisiong, weightg = kmeans_params(df)\n",
    "    gmm = GaussianMixture(n_components=2, covariance_type = 'spherical', \\\n",
    "                          means_init = meang, precisions_init = precisiong, \\\n",
    "                          weights_init = weightg)\n",
    "    gmm.fit(df)\n",
    "    num_iters.append(gmm.n_iter_)"
   ]
  },
  {
   "cell_type": "code",
   "execution_count": 74,
   "metadata": {},
   "outputs": [
    {
     "data": {
      "image/png": "[encoded data removed]",
      "text/plain": [
       "<Figure size 432x288 with 1 Axes>"
      ]
     },
     "metadata": {},
     "output_type": "display_data"
    }
   ],
   "source": [
    "# plot results histogram\n",
    "plt.hist(num_iters, bins = 25);\n",
    "plt.xlabel('Run Times')\n",
    "plt.ylabel('Number of iterations')\n",
    "plt.savefig('Iteration_Hist_2.png')"
   ]
  },
  {
   "cell_type": "markdown",
   "metadata": {},
   "source": [
    "##### Try the default kmeans option in the GMM model"
   ]
  },
  {
   "cell_type": "code",
   "execution_count": 62,
   "metadata": {},
   "outputs": [
    {
     "name": "stderr",
     "output_type": "stream",
     "text": [
      "C:\\Users\\simir\\Anaconda3\\lib\\site-packages\\sklearn\\mixture\\base.py:237: ConvergenceWarning: Initialization 1 did not converge. Try different init parameters, or increase max_iter, tol or check for degenerate data.\n",
      "  % (init + 1), ConvergenceWarning)\n"
     ]
    }
   ],
   "source": [
    "iterations = []\n",
    "means1x = []\n",
    "means2x =[]\n",
    "i = 1\n",
    "gmm = GaussianMixture(n_components=2, warm_start = True, covariance_type = 'spherical', \\\n",
    "                            max_iter = 1, init_params = 'kmeans')\n",
    "while True:\n",
    "    gmm.fit(df)\n",
    "    iterations.append(i)\n",
    "    means = gmm.means_\n",
    "    \n",
    "    x1 = means[0][0]\n",
    "    x2 = means[1][0]\n",
    "    means1x.append(x1)\n",
    "    means2x.append(x2)\n",
    "    if gmm.converged_:\n",
    "        break\n",
    "    i += 1"
   ]
  },
  {
   "cell_type": "code",
   "execution_count": 63,
   "metadata": {},
   "outputs": [
    {
     "data": {
      "image/png": "[encoded data removed]",
      "text/plain": [
       "<Figure size 720x720 with 1 Axes>"
      ]
     },
     "metadata": {},
     "output_type": "display_data"
    }
   ],
   "source": [
    "# plot results\n",
    "plt.figure(figsize=(10, 10))\n",
    "plt.scatter(iterations, means1x)\n",
    "plt.scatter(iterations, means2x)\n",
    "plt.xlabel('Number of Iterations')\n",
    "plt.ylabel('GMM Means');"
   ]
  },
  {
   "cell_type": "code",
   "execution_count": 64,
   "metadata": {},
   "outputs": [],
   "source": [
    "num_iters = []\n",
    "for i in range(50):\n",
    "    gmm = GaussianMixture(n_components=2, covariance_type = 'spherical', \\\n",
    "                            init_params = 'kmeans')\n",
    "    gmm.fit(df)\n",
    "    num_iters.append(gmm.n_iter_)"
   ]
  },
  {
   "cell_type": "code",
   "execution_count": 65,
   "metadata": {},
   "outputs": [
    {
     "data": {
      "text/plain": [
       "Text(0,0.5,'Number of iterations')"
      ]
     },
     "execution_count": 65,
     "metadata": {},
     "output_type": "execute_result"
    },
    {
     "data": {
      "image/png": "[encoded data removed]",
      "text/plain": [
       "<Figure size 432x288 with 1 Axes>"
      ]
     },
     "metadata": {},
     "output_type": "display_data"
    }
   ],
   "source": [
    "# plot histogram results\n",
    "plt.hist(num_iters, bins = 25);\n",
    "plt.xlabel('Run Times')\n",
    "plt.ylabel('Number of iterations')"
   ]
  },
  {
   "cell_type": "markdown",
   "metadata": {},
   "source": [
    "# Multidimensional scaling for genetic population differences"
   ]
  },
  {
   "cell_type": "code",
   "execution_count": 2,
   "metadata": {},
   "outputs": [
    {
     "name": "stdout",
     "output_type": "stream",
     "text": [
      "[[  0.  87.  12. ... 462. 559. 553.]\n",
      " [ 87.   0.  87. ... 210. 359. 285.]\n",
      " [ 12.  87.   0. ... 317. 401. 377.]\n",
      " ...\n",
      " [462. 210. 317. ...   0. 226. 173.]\n",
      " [559. 359. 401. ... 226.   0. 127.]\n",
      " [553. 285. 377. ... 173. 127.   0.]]\n",
      "[b'Bantu' b'E. Afncan' b'Nilo-Saharan' b'W. African' b'San' b'Barter'\n",
      " b'Mbuti' b'Indian' b'Iranian' b'Near Eastern' b'Uralic' b'Ainu'\n",
      " b'Japanese' b'Korean' b'Mon Khmer' b'Thai' b'Dravidian' b'Mongol Tungus'\n",
      " b'Tibetan' b'Indonesian' b'Malaysian' b'Filipino' b'N. Turkic'\n",
      " b'S. Chinese' b'Basque' b'Lapp' b'Sardinian' b'Danish' b'English'\n",
      " b'Greek' b'Italian' b'C Amerind' b'Eskimo' b'Na-Dene' b'N. American'\n",
      " b'S. American' b'Chukchi' b'Melanesian' b'Micronesian' b'Polynesian'\n",
      " b'New Guinean' b'Australian']\n"
     ]
    }
   ],
   "source": [
    "# import libraries\n",
    "from sklearn.datasets import load_digits\n",
    "from sklearn.manifold import MDS\n",
    "from pyclustering.cluster.kmedoids import kmedoids\n",
    "from scipy.cluster.hierarchy import dendrogram, linkage\n",
    "from scipy.cluster.hierarchy import fcluster\n",
    "from pyclustering.cluster import cluster_visualizer\n",
    "import pylab as pl\n",
    "data = np.load(\"mds-population.npz\")\n",
    "print (data['D']) # Distance matrix\n",
    "print (data['population_list']) # List of populations"
   ]
  },
  {
   "cell_type": "markdown",
   "metadata": {},
   "source": [
    "#### a) Perform MDS and analyze the results"
   ]
  },
  {
   "cell_type": "markdown",
   "metadata": {},
   "source": [
    "##### i) What we are doing with MDS"
   ]
  },
  {
   "cell_type": "markdown",
   "metadata": {},
   "source": [
    "Assumptions being made: \n",
    "- the data can be represented by vectors along the set of dimensions indicated\n",
    "- the dissimlarity is based on euclidean distance\n",
    "\n",
    "Failure Circumstances: \n",
    "- data is clumpy instead of manifoldy\n",
    "- if, for example, the principal directions of variation for a dataset are the first 3 dimensions, but we choose to only consider the first 2 dimensions for MDS\n",
    "\n",
    "One way to measure how much information is being lost would be to apply MDS for the largest number of dimensions that we are willing to consider, then perform SVD on the resulting data to find the dimensions of greatest variation. Based on this we can optimize the number of dimensions that best represents the data and apply MDS again using this."
   ]
  },
  {
   "cell_type": "markdown",
   "metadata": {},
   "source": [
    "##### ii) How to Capture Most of the Variation in the Data"
   ]
  },
  {
   "cell_type": "markdown",
   "metadata": {},
   "source": [
    "For this part, we decided to perform MDS for a high number of dimensions and check the eigenvalues of the result \n",
    "by performing SVD. Looking at the singular values in S (covariance matrix) obtained from SVD, we decided to consider the first 5 dimensions as the ones which give an accurate low-dimensional representation of the data because they were powers of 100. The rest of singular values were powers of 10 and 1, which is much smaller and thus less significant. We then used this finding to apply MDS with the first 5 dimensions."
   ]
  },
  {
   "cell_type": "code",
   "execution_count": 6,
   "metadata": {},
   "outputs": [
    {
     "name": "stdout",
     "output_type": "stream",
     "text": [
      "[7.18016282e+02 4.50061801e+02 3.72281465e+02 2.24121793e+02\n",
      " 1.34223083e+02 8.49443282e+01 7.61661834e+01 6.31730897e+01\n",
      " 1.86060588e+01 1.35615621e+01 9.13721490e+00 6.93465136e+00\n",
      " 2.27454036e+00 1.12854761e+00 6.96490905e-01 5.34583845e-01\n",
      " 2.05048679e-01 8.22323327e-02 2.58036780e-02 1.95465503e-02]\n"
     ]
    }
   ],
   "source": [
    "# apply 20 dimensional MDS\n",
    "embedding = MDS(n_components=20, dissimilarity = 'precomputed')\n",
    "out_MDS_20 = embedding.fit_transform(data['D'])\n",
    "\n",
    "# perform svd on the result\n",
    "U_out, S_out, VTrans_out = sp.linalg.svd(out_MDS_20)\n",
    "\n",
    "print(S_out) # found first 5 dimensions to be most significant\n",
    "\n",
    "# apply 5 dimensional MDS\n",
    "embedding = MDS(n_components=5, dissimilarity = 'precomputed')\n",
    "out_MDS_5 = embedding.fit_transform(data['D'])"
   ]
  },
  {
   "cell_type": "markdown",
   "metadata": {},
   "source": [
    "##### iii) Apply 2D MDS and Show Result"
   ]
  },
  {
   "cell_type": "code",
   "execution_count": 7,
   "metadata": {},
   "outputs": [
    {
     "data": {
      "image/png": "[encoded data removed]",
      "text/plain": [
       "<Figure size 1080x720 with 1 Axes>"
      ]
     },
     "metadata": {
      "needs_background": "light"
     },
     "output_type": "display_data"
    }
   ],
   "source": [
    "# apply 2 dimensional MDS\n",
    "embedding = MDS(n_components=2, dissimilarity = 'precomputed')\n",
    "out_MDS = embedding.fit_transform(data['D'])\n",
    "\n",
    "plt.figure(figsize=(15,10))\n",
    "\n",
    "# display and label results\n",
    "for i, label in enumerate(data['population_list']):\n",
    "    plt.scatter(out_MDS[i, 0], out_MDS[i, 1])\n",
    "    plt.text(out_MDS[i, 0], out_MDS[i, 1], label.decode('utf-8'))\n",
    "    \n",
    "plt.savefig('MDS')"
   ]
  },
  {
   "cell_type": "markdown",
   "metadata": {},
   "source": [
    "#### b) k-means on 2d embedding"
   ]
  },
  {
   "cell_type": "code",
   "execution_count": 10,
   "metadata": {},
   "outputs": [
    {
     "data": {
      "image/png": "[encoded data removed]",
      "text/plain": [
       "<Figure size 432x288 with 1 Axes>"
      ]
     },
     "metadata": {
      "needs_background": "light"
     },
     "output_type": "display_data"
    }
   ],
   "source": [
    "# find the best k\n",
    "sil = []\n",
    "ks = []\n",
    "dists = []\n",
    "for k in range(2, 20):\n",
    "    kmeans = KMeans(n_clusters = k, max_iter = 10000).fit(out_MDS)\n",
    "    labels = kmeans.labels_\n",
    "    \n",
    "    # determine whether the documents are labeled correctly\n",
    "    sil.append(silhouette_score(out_MDS, labels, metric = 'euclidean'))\n",
    "    dists.append(kmeans.inertia_)\n",
    "\n",
    "    ks.append(k)\n",
    "    \n",
    "plt.plot(ks, dists) # plot intertia for each ks\n",
    "plt.xlabel('K')\n",
    "plt.ylabel('Inertia')\n",
    "plt.savefig('2DKmeans_Inertia.png')"
   ]
  },
  {
   "cell_type": "markdown",
   "metadata": {},
   "source": [
    "This is the plot of intertia. The \"elbow\" of this plot is at k=6. This is the point at which we have achieved the best sum of square distance from the cluster center that we can before overfitting."
   ]
  },
  {
   "cell_type": "code",
   "execution_count": 11,
   "metadata": {},
   "outputs": [
    {
     "data": {
      "image/png": "[encoded data removed]",
      "text/plain": [
       "<Figure size 432x288 with 1 Axes>"
      ]
     },
     "metadata": {
      "needs_background": "light"
     },
     "output_type": "display_data"
    }
   ],
   "source": [
    "plt.plot(ks, sil) # plot silhouette score for every k\n",
    "plt.xlabel('K')\n",
    "plt.ylabel('Silhouette')\n",
    "plt.savefig('2DKmeans_Sil.png')"
   ]
  },
  {
   "cell_type": "markdown",
   "metadata": {},
   "source": [
    "Above is a plot of the silhouette score. The silhouettes are all pretty high, so this make it difficult to choose k. This plot peaks at k=2, however, it also peaks similarly at k=6 like the elbow of the inertia plot tells us. From visually inspecting the data, however, it looks like the data does not really fall into 6 classes; the 2 class class seems more plausible from the way the data looks. So we decided to choose k=2. "
   ]
  },
  {
   "cell_type": "code",
   "execution_count": 38,
   "metadata": {},
   "outputs": [
    {
     "data": {
      "image/png": "[encoded data removed]",
      "text/plain": [
       "<Figure size 432x288 with 1 Axes>"
      ]
     },
     "metadata": {
      "needs_background": "light"
     },
     "output_type": "display_data"
    }
   ],
   "source": [
    "# run k-means on data with best k \n",
    "kmeans_best = KMeans(n_clusters = 2, max_iter = 10000).fit(out_MDS)\n",
    "kmeans_best.fit(out_MDS)\n",
    "y_kmeans = kmeans_best.predict(out_MDS)\n",
    "centers = kmeans_best.cluster_centers_\n",
    "\n",
    "# plot results\n",
    "plt.scatter(out_MDS[:, 0], out_MDS[:, 1], c=y_kmeans, s=50, cmap='viridis')\n",
    "plt.scatter(centers[:, 0], centers[:, 1], c='black', s=50, alpha=0.5)\n",
    "plt.savefig('kmeans_4')"
   ]
  },
  {
   "cell_type": "markdown",
   "metadata": {},
   "source": [
    "If we choose k=6: It looks like the clusters clusterby region on Earth pretty well. However, there are some discrepancies such as Indians and Dravidians being clustered with Europeans and Turkish being clustered with some of the East Asian countries. It does a pretty good job of separating out Americas, Africa, and countries around Austrailia, but the rest are kind of mixed together. This is likely due to the dimensionality reduction."
   ]
  },
  {
   "cell_type": "markdown",
   "metadata": {},
   "source": [
    "If we choose k=2: We don't fully agree with the clustering results because it also looks like there could be 3 clusters, or even more. However, the clustering does a good job of separating the African Countries from the rest of the data. The dimensionality reduction has caused the data to be in a more compacted space impacting how we cluster. The information about what features the distance is being calculated on is vital for understanding and representing the data, as well as for figuring out if the clusters make sense."
   ]
  },
  {
   "cell_type": "markdown",
   "metadata": {},
   "source": [
    "#### c) Comparing hierarchical clustering with k-means"
   ]
  },
  {
   "cell_type": "code",
   "execution_count": 9,
   "metadata": {},
   "outputs": [
    {
     "name": "stderr",
     "output_type": "stream",
     "text": [
      "C:\\Users\\simir\\Anaconda3\\lib\\site-packages\\ipykernel_launcher.py:1: ClusterWarning: scipy.cluster: The symmetric non-negative hollow observation matrix looks suspiciously like an uncondensed distance matrix\n",
      "  \"\"\"Entry point for launching an IPython kernel.\n"
     ]
    },
    {
     "data": {
      "image/png": "[encoded data removed]",
      "text/plain": [
       "<Figure size 1080x720 with 1 Axes>"
      ]
     },
     "metadata": {},
     "output_type": "display_data"
    }
   ],
   "source": [
    "# obtain dendogram of the data\n",
    "Z = linkage(data['D'])\n",
    "plt.figure(figsize=(15,10))\n",
    "dn = dendrogram(Z, no_plot = True)\n",
    "labels = data['population_list']\n",
    "lenght = len(labels)\n",
    "\n",
    "# create a dictionary for the labels\n",
    "temp = {dn[\"leaves\"][ii]: labels[ii].decode('utf-8') for ii in range(len(dn[\"leaves\"]))}\n",
    "def llf(xx):\n",
    "    return \"{}\".format(temp[xx])\n",
    "\n",
    "# dendogram with the labels we want\n",
    "dn = dendrogram(Z, leaf_label_func=llf)\n",
    "\n",
    "# plot hierarchical clustering results\n",
    "plt.xlabel('Categories')\n",
    "plt.ylabel('Nei\\'s Distance')\n",
    "plt.savefig('hierarchy')"
   ]
  },
  {
   "cell_type": "code",
   "execution_count": 10,
   "metadata": {},
   "outputs": [
    {
     "name": "stdout",
     "output_type": "stream",
     "text": [
      "[1 2 2 2 2 2 1 2 2 2 2 2 2 2 2 2 2 2 2 2 2 2 2 2 2 2 2 2 2 2 2 2 2 2 2 2 2\n",
      " 2 2 2 2 2]\n"
     ]
    }
   ],
   "source": [
    "# turn resulting tree into flat clustering of points\n",
    "flat_clusters = fcluster(Z, t=601.38, criterion='distance') # using a threshold of 601.38 for the distance we get two clusters (k=2) \n",
    "# and most of the points assigned to the second cluster, like in k-means above\n",
    "\n",
    "# (if k = 6 using a threshold of 416.95)\n",
    "\n",
    "print(flat_clusters)"
   ]
  },
  {
   "cell_type": "code",
   "execution_count": 11,
   "metadata": {},
   "outputs": [
    {
     "name": "stdout",
     "output_type": "stream",
     "text": [
      "Colors Array Shape:  (42,)\n"
     ]
    },
    {
     "data": {
      "image/png": "[encoded data removed]",
      "text/plain": [
       "<Figure size 432x288 with 1 Axes>"
      ]
     },
     "metadata": {},
     "output_type": "display_data"
    }
   ],
   "source": [
    "# plot results\n",
    "colors = [] # to store colour of each point to in the scatterplot\n",
    "\n",
    "# display results\n",
    "for i, element in enumerate(flat_clusters):\n",
    "    if(element == 1):\n",
    "        colors.append(\"red\")\n",
    "    else:\n",
    "        colors.append(\"blue\")\n",
    "\n",
    "colors_array = np.asarray(colors)\n",
    "\n",
    "# check it is the right size and the code is working properly\n",
    "print(\"Colors Array Shape: \", colors_array.shape)\n",
    "\n",
    "# display results\n",
    "plt.scatter(out_MDS[:, 0], out_MDS[:, 1], c=colors)\n",
    "plt.savefig('flat_clusters')"
   ]
  },
  {
   "cell_type": "markdown",
   "metadata": {},
   "source": [
    "Compared to the k-means clustering computer earlier, this technique groups more points into the second cluster. The first cluster in this case only contains 2 points. The k-means clustering results look more realistic and efficient."
   ]
  },
  {
   "cell_type": "markdown",
   "metadata": {},
   "source": [
    "#### d) k-medoids comparison with k-means"
   ]
  },
  {
   "cell_type": "code",
   "execution_count": 7,
   "metadata": {},
   "outputs": [
    {
     "data": {
      "text/plain": [
       "651.0"
      ]
     },
     "execution_count": 7,
     "metadata": {},
     "output_type": "execute_result"
    }
   ],
   "source": [
    "dat = data['D']\n",
    "max(dat.flatten())"
   ]
  },
  {
   "cell_type": "code",
   "execution_count": 3,
   "metadata": {},
   "outputs": [
    {
     "name": "stdout",
     "output_type": "stream",
     "text": [
      "Collecting pyclustering\n",
      "  Downloading https://files.pythonhosted.org/packages/a8/77/13fe5d100c07a8c8ba06aa37608604573b1e9cb75a94016ab3882f4bf895/pyclustering-0.9.2.tar.gz (2.6MB)\n",
      "Requirement already satisfied: scipy in c:\\users\\evatr\\anaconda3\\lib\\site-packages (from pyclustering) (1.2.1)\n",
      "Requirement already satisfied: matplotlib in c:\\users\\evatr\\anaconda3\\lib\\site-packages (from pyclustering) (3.1.0)\n",
      "Requirement already satisfied: numpy in c:\\users\\evatr\\anaconda3\\lib\\site-packages (from pyclustering) (1.16.4)\n",
      "Requirement already satisfied: Pillow in c:\\users\\evatr\\anaconda3\\lib\\site-packages (from pyclustering) (6.1.0)\n",
      "Requirement already satisfied: cycler>=0.10 in c:\\users\\evatr\\anaconda3\\lib\\site-packages (from matplotlib->pyclustering) (0.10.0)\n",
      "Requirement already satisfied: kiwisolver>=1.0.1 in c:\\users\\evatr\\anaconda3\\lib\\site-packages (from matplotlib->pyclustering) (1.1.0)\n",
      "Requirement already satisfied: pyparsing!=2.0.4,!=2.1.2,!=2.1.6,>=2.0.1 in c:\\users\\evatr\\anaconda3\\lib\\site-packages (from matplotlib->pyclustering) (2.4.0)\n",
      "Requirement already satisfied: python-dateutil>=2.1 in c:\\users\\evatr\\anaconda3\\lib\\site-packages (from matplotlib->pyclustering) (2.8.0)\n",
      "Requirement already satisfied: six in c:\\users\\evatr\\anaconda3\\lib\\site-packages (from cycler>=0.10->matplotlib->pyclustering) (1.12.0)\n",
      "Requirement already satisfied: setuptools in c:\\users\\evatr\\anaconda3\\lib\\site-packages (from kiwisolver>=1.0.1->matplotlib->pyclustering) (41.0.1)\n",
      "Building wheels for collected packages: pyclustering\n",
      "  Building wheel for pyclustering (setup.py): started\n",
      "  Building wheel for pyclustering (setup.py): finished with status 'done'\n",
      "  Stored in directory: C:\\Users\\evatr\\AppData\\Local\\pip\\Cache\\wheels\\64\\8c\\62\\f45c1df20df691f3dfb2c71be53660cf5d46a98f5c3fa53cec\n",
      "Successfully built pyclustering\n",
      "Installing collected packages: pyclustering\n",
      "Successfully installed pyclustering-0.9.2\n"
     ]
    }
   ],
   "source": [
    "!pip install pyclustering"
   ]
  },
  {
   "cell_type": "code",
   "execution_count": 13,
   "metadata": {},
   "outputs": [
    {
     "data": {
      "image/png": "[encoded data removed]",
      "text/plain": [
       "<Figure size 432x288 with 1 Axes>"
      ]
     },
     "metadata": {
      "needs_background": "light"
     },
     "output_type": "display_data"
    }
   ],
   "source": [
    "# apply k-medoids clustering to data\n",
    "init_medoids = [1, 10]\n",
    "\n",
    "# Create instance of k-medoids\n",
    "kmedoids1 = kmedoids(data['D'], init_medoids, itermax = 100)\n",
    "\n",
    "# obtain k-medoids results\n",
    "kmedoids1.process()\n",
    "medoids = kmedoids1.get_medoids()\n",
    "clusters = kmedoids1.get_clusters()\n",
    "c_kmedoids = kmedoids1.predict(data['D'])\n",
    "\n",
    "# show clusters\n",
    "plt.scatter((data['D'])[:, 0], (data['D'])[:, 1], c = c_kmedoids, s=50, cmap='viridis')\n",
    "plt.savefig('k-medoids')"
   ]
  },
  {
   "cell_type": "code",
   "execution_count": null,
   "metadata": {},
   "outputs": [],
   "source": []
  }
 ],
 "metadata": {
  "kernelspec": {
   "display_name": "Python 3",
   "language": "python",
   "name": "python3"
  },
  "language_info": {
   "codemirror_mode": {
    "name": "ipython",
    "version": 3
   },
   "file_extension": ".py",
   "mimetype": "text/x-python",
   "name": "python",
   "nbconvert_exporter": "python",
   "pygments_lexer": "ipython3",
   "version": "3.6.5"
  }
 },
 "nbformat": 4,
 "nbformat_minor": 2
}
